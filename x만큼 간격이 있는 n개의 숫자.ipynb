{
 "cells": [
  {
   "cell_type": "code",
   "execution_count": 4,
   "id": "d40bd461",
   "metadata": {},
   "outputs": [],
   "source": [
    "def solution(x, n):\n",
    "    \n",
    "    answer = [  ]              #  빈리스에 담아줘\n",
    "    for i in range (1,n+1):  #  1부터 n+1를 지정한다. 곱셈이라 범위지정할때 0부터하면 안된다.\n",
    "        answer.append(x*i)  #  순서대로 answer에 담아줘\n",
    "    return answer"
   ]
  },
  {
   "cell_type": "code",
   "execution_count": 5,
   "id": "35ef5995",
   "metadata": {},
   "outputs": [
    {
     "data": {
      "text/plain": [
       "[0, 2, 4, 6, 8, 10]"
      ]
     },
     "execution_count": 5,
     "metadata": {},
     "output_type": "execute_result"
    }
   ],
   "source": [
    "solution(2,5)"
   ]
  },
  {
   "cell_type": "code",
   "execution_count": null,
   "id": "99a9f86a",
   "metadata": {},
   "outputs": [],
   "source": []
  }
 ],
 "metadata": {
  "kernelspec": {
   "display_name": "Python 3",
   "language": "python",
   "name": "python3"
  },
  "language_info": {
   "codemirror_mode": {
    "name": "ipython",
    "version": 3
   },
   "file_extension": ".py",
   "mimetype": "text/x-python",
   "name": "python",
   "nbconvert_exporter": "python",
   "pygments_lexer": "ipython3",
   "version": "3.8.8"
  }
 },
 "nbformat": 4,
 "nbformat_minor": 5
}
