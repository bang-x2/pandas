{
 "cells": [
  {
   "cell_type": "markdown",
   "id": "c59d9dfa",
   "metadata": {},
   "source": [
    "# Card"
   ]
  },
  {
   "cell_type": "code",
   "execution_count": 41,
   "id": "c64e0c83",
   "metadata": {},
   "outputs": [],
   "source": [
    "class card:\n",
    "    def __init__(self):\n",
    "        self.result = 0\n",
    "\n",
    "    def charge(self,num):\n",
    "        self.result += num\n",
    "        return (f\"충전 금액은 {self.result}원 입니다\")\n",
    "    def consume(self,num):\n",
    "        self.result -= num\n",
    "        return (f\"소비금액은 {self.result}원 입니다\")\n",
    "    def Changes(self):\n",
    "        return (f\"현재잔액은 {self.result}원 입니다\")"
   ]
  },
  {
   "cell_type": "code",
   "execution_count": 50,
   "id": "79ecae3a",
   "metadata": {},
   "outputs": [
    {
     "data": {
      "text/plain": [
       "'충전 금액은 3000원 입니다'"
      ]
     },
     "execution_count": 50,
     "metadata": {},
     "output_type": "execute_result"
    }
   ],
   "source": [
    "a = card()\n",
    "a.charge(3000)"
   ]
  },
  {
   "cell_type": "code",
   "execution_count": 51,
   "id": "767e49b6",
   "metadata": {},
   "outputs": [
    {
     "data": {
      "text/plain": [
       "'현재잔액은 3000원 입니다'"
      ]
     },
     "execution_count": 51,
     "metadata": {},
     "output_type": "execute_result"
    }
   ],
   "source": [
    "a.Changes()"
   ]
  },
  {
   "cell_type": "markdown",
   "id": "76a77477",
   "metadata": {},
   "source": [
    "# 계산기"
   ]
  },
  {
   "cell_type": "code",
   "execution_count": 85,
   "id": "2095fa29",
   "metadata": {},
   "outputs": [],
   "source": [
    "class Calculator:\n",
    "    \n",
    "    def __init__(self):\n",
    "        self.result = 0\n",
    "\n",
    "    def Add(self, num,num1):\n",
    "        self.result = num+num1\n",
    "        return self.result\n",
    "    def Min(self, num,num1):\n",
    "        self.result = num-num1\n",
    "        return self.result\n",
    "    def Mul(self, num,num1):\n",
    "        self.result = num*num1\n",
    "        return self.result\n",
    "    def Div(self, num,num1):\n",
    "        self.result = num/num1\n",
    "        return self.result\n",
    "    "
   ]
  },
  {
   "cell_type": "code",
   "execution_count": 86,
   "id": "4679fcfc",
   "metadata": {},
   "outputs": [
    {
     "data": {
      "text/plain": [
       "-10"
      ]
     },
     "execution_count": 86,
     "metadata": {},
     "output_type": "execute_result"
    }
   ],
   "source": [
    "cal = Calculator()\n",
    "cal.Min(10,20)"
   ]
  },
  {
   "cell_type": "code",
   "execution_count": null,
   "id": "75403ffe",
   "metadata": {},
   "outputs": [],
   "source": []
  }
 ],
 "metadata": {
  "kernelspec": {
   "display_name": "Python 3 (ipykernel)",
   "language": "python",
   "name": "python3"
  },
  "language_info": {
   "codemirror_mode": {
    "name": "ipython",
    "version": 3
   },
   "file_extension": ".py",
   "mimetype": "text/x-python",
   "name": "python",
   "nbconvert_exporter": "python",
   "pygments_lexer": "ipython3",
   "version": "3.8.8"
  }
 },
 "nbformat": 4,
 "nbformat_minor": 5
}
