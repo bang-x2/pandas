{
 "cells": [
  {
   "cell_type": "code",
   "execution_count": 1,
   "id": "529e7b96",
   "metadata": {},
   "outputs": [],
   "source": [
    "def solution(s):\n",
    "    for i in range(len(s)-3):\n",
    "        a = str(i*\"*\")+s[-4:]\n",
    "    return a"
   ]
  },
  {
   "cell_type": "code",
   "execution_count": 2,
   "id": "3908d9a8",
   "metadata": {
    "scrolled": true
   },
   "outputs": [
    {
     "data": {
      "text/plain": [
       "'*******4444'"
      ]
     },
     "execution_count": 2,
     "metadata": {},
     "output_type": "execute_result"
    }
   ],
   "source": [
    "solution(\"01033334444\")"
   ]
  },
  {
   "cell_type": "markdown",
   "id": "913feb1c",
   "metadata": {},
   "source": [
    "먼저 풀었던 \"답\" 단순화 해보기"
   ]
  },
  {
   "cell_type": "code",
   "execution_count": 20,
   "id": "fd421423",
   "metadata": {},
   "outputs": [],
   "source": [
    "def solution(s):\n",
    "    return (len(s)-4)*\"*\"+s[-4:]"
   ]
  },
  {
   "cell_type": "code",
   "execution_count": 21,
   "id": "b0f9accd",
   "metadata": {},
   "outputs": [
    {
     "data": {
      "text/plain": [
       "'*******4444'"
      ]
     },
     "execution_count": 21,
     "metadata": {},
     "output_type": "execute_result"
    }
   ],
   "source": [
    "solution(\"01033334444\")"
   ]
  },
  {
   "cell_type": "code",
   "execution_count": null,
   "id": "96c08ac7",
   "metadata": {},
   "outputs": [],
   "source": []
  }
 ],
 "metadata": {
  "kernelspec": {
   "display_name": "Python 3",
   "language": "python",
   "name": "python3"
  },
  "language_info": {
   "codemirror_mode": {
    "name": "ipython",
    "version": 3
   },
   "file_extension": ".py",
   "mimetype": "text/x-python",
   "name": "python",
   "nbconvert_exporter": "python",
   "pygments_lexer": "ipython3",
   "version": "3.8.8"
  }
 },
 "nbformat": 4,
 "nbformat_minor": 5
}
