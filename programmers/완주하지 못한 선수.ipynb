{
 "cells": [
  {
   "cell_type": "code",
   "execution_count": 1,
   "id": "4e46984d",
   "metadata": {},
   "outputs": [],
   "source": [
    "def solution(participant, completion):\n",
    "    participant.sort()\n",
    "    completion.sort()\n",
    "    for i in range(len(completion)):\n",
    "        if participant[i] != completion[i]:\n",
    "            return participant[i]\n",
    "    return participant[-1]"
   ]
  },
  {
   "cell_type": "code",
   "execution_count": 2,
   "id": "7dbc0cb5",
   "metadata": {},
   "outputs": [
    {
     "data": {
      "text/plain": [
       "'mislav'"
      ]
     },
     "execution_count": 2,
     "metadata": {},
     "output_type": "execute_result"
    }
   ],
   "source": [
    "solution([\"mislav\", \"stanko\", \"mislav\", \"ana\"], [\"stanko\", \"ana\", \"mislav\"])"
   ]
  },
  {
   "cell_type": "code",
   "execution_count": 3,
   "id": "d3f3627e",
   "metadata": {},
   "outputs": [],
   "source": [
    "#디버그"
   ]
  },
  {
   "cell_type": "code",
   "execution_count": 4,
   "id": "fa91e108",
   "metadata": {},
   "outputs": [],
   "source": [
    "participant= [\"mislav\", \"stanko\", \"mislav\", \"ana\"]\n",
    "completion= [\"stanko\", \"ana\", \"mislav\"]\n"
   ]
  },
  {
   "cell_type": "code",
   "execution_count": 5,
   "id": "39754f76",
   "metadata": {},
   "outputs": [
    {
     "data": {
      "text/plain": [
       "['ana', 'mislav', 'mislav', 'stanko']"
      ]
     },
     "execution_count": 5,
     "metadata": {},
     "output_type": "execute_result"
    }
   ],
   "source": [
    "participant1=sorted(participant)\n",
    "participant1"
   ]
  },
  {
   "cell_type": "code",
   "execution_count": 6,
   "id": "283f9c88",
   "metadata": {},
   "outputs": [
    {
     "data": {
      "text/plain": [
       "['ana', 'mislav', 'stanko']"
      ]
     },
     "execution_count": 6,
     "metadata": {},
     "output_type": "execute_result"
    }
   ],
   "source": [
    "completion1=sorted(completion)\n",
    "completion1"
   ]
  },
  {
   "cell_type": "code",
   "execution_count": 7,
   "id": "00d958b7",
   "metadata": {},
   "outputs": [
    {
     "name": "stdout",
     "output_type": "stream",
     "text": [
      "0\n",
      "1\n",
      "2\n"
     ]
    }
   ],
   "source": [
    "for i in range(len(completion)):\n",
    "    print(i)"
   ]
  },
  {
   "cell_type": "code",
   "execution_count": 8,
   "id": "7f3971a2",
   "metadata": {},
   "outputs": [
    {
     "name": "stdout",
     "output_type": "stream",
     "text": [
      "2\n"
     ]
    }
   ],
   "source": [
    "#participant 과 completion 을 비교했을 때 맞지않는 i(인덱스)를 반환하여라\n",
    "for i in range(len(completion)):\n",
    "    if participant1[i] != completion1[i]:\n",
    "        print(i)"
   ]
  },
  {
   "cell_type": "code",
   "execution_count": 9,
   "id": "ef183ff0",
   "metadata": {},
   "outputs": [
    {
     "name": "stdout",
     "output_type": "stream",
     "text": [
      "mislav\n"
     ]
    }
   ],
   "source": [
    "#아닌게 True\n",
    "for i in range(len(completion)):\n",
    "    if participant1[i] != completion1[i]:\n",
    "        print(participant[i])"
   ]
  },
  {
   "cell_type": "code",
   "execution_count": 10,
   "id": "0fa20ba8",
   "metadata": {},
   "outputs": [
    {
     "name": "stdout",
     "output_type": "stream",
     "text": [
      "ana\n"
     ]
    }
   ],
   "source": [
    "#아닌게 False라면\n",
    "for i in range(len(completion)):\n",
    "    if participant1[i] != completion1[i]:\n",
    "        print(participant[-1])"
   ]
  }
 ],
 "metadata": {
  "kernelspec": {
   "display_name": "Python 3",
   "language": "python",
   "name": "python3"
  },
  "language_info": {
   "codemirror_mode": {
    "name": "ipython",
    "version": 3
   },
   "file_extension": ".py",
   "mimetype": "text/x-python",
   "name": "python",
   "nbconvert_exporter": "python",
   "pygments_lexer": "ipython3",
   "version": "3.8.8"
  }
 },
 "nbformat": 4,
 "nbformat_minor": 5
}
