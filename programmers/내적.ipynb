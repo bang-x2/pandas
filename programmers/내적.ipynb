{
 "cells": [
  {
   "cell_type": "markdown",
   "id": "6979d8d0",
   "metadata": {},
   "source": [
    "#이렇게 나오도록 알고리즘을 짜라\n",
    "\n",
    "    a[0]*b[0] + a[1]*b[1] + a[2]*b[2] + a[3]*b[3]\n",
    "\n"
   ]
  },
  {
   "cell_type": "markdown",
   "id": "f9066429",
   "metadata": {},
   "source": [
    "a = [-1,0,1]\n",
    "b = [1,0,-1]or\n",
    "a = [1,2,3,4]\n",
    "b = [-3,-1,0,2]"
   ]
  },
  {
   "cell_type": "code",
   "execution_count": 1,
   "id": "bb4cd9ec",
   "metadata": {},
   "outputs": [],
   "source": [
    "a = [-1,0,1]\n",
    "b = [1,0,-1]"
   ]
  },
  {
   "cell_type": "code",
   "execution_count": 2,
   "id": "713bed5c",
   "metadata": {},
   "outputs": [
    {
     "name": "stdout",
     "output_type": "stream",
     "text": [
      "-2\n"
     ]
    }
   ],
   "source": [
    "sum_v = []\n",
    "for i in range(len(a)):\n",
    "    sum_v.append(a[i]*b[i])\n",
    "print(sum(sum_v))"
   ]
  },
  {
   "cell_type": "code",
   "execution_count": 3,
   "id": "e911ff23",
   "metadata": {},
   "outputs": [],
   "source": [
    "def solution(a, b):\n",
    "    sum_v = []\n",
    "    for i in range(len(a)):\n",
    "        sum_v.append(a[i]*b[i])\n",
    "    return sum(sum_v)"
   ]
  },
  {
   "cell_type": "code",
   "execution_count": 4,
   "id": "0fcf4c40",
   "metadata": {},
   "outputs": [
    {
     "data": {
      "text/plain": [
       "-2"
      ]
     },
     "execution_count": 4,
     "metadata": {},
     "output_type": "execute_result"
    }
   ],
   "source": [
    "a = [-1,0,1]\n",
    "b = [1,0,-1]\n",
    "solution(a,b)"
   ]
  }
 ],
 "metadata": {
  "kernelspec": {
   "display_name": "Python 3",
   "language": "python",
   "name": "python3"
  },
  "language_info": {
   "codemirror_mode": {
    "name": "ipython",
    "version": 3
   },
   "file_extension": ".py",
   "mimetype": "text/x-python",
   "name": "python",
   "nbconvert_exporter": "python",
   "pygments_lexer": "ipython3",
   "version": "3.8.8"
  }
 },
 "nbformat": 4,
 "nbformat_minor": 5
}
