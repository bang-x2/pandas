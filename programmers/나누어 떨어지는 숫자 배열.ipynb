{
 "cells": [
  {
   "cell_type": "markdown",
   "id": "c5a64137",
   "metadata": {},
   "source": [
    "첫 번째 풀이"
   ]
  },
  {
   "cell_type": "code",
   "execution_count": 1,
   "id": "786d61f2",
   "metadata": {},
   "outputs": [],
   "source": [
    "def solution(arr, divisor):\n",
    "    arr_v=[]\n",
    "    for v in arr:\n",
    "        if v%divisor==0:\n",
    "            arr_v.append(v)        \n",
    "        elif arr_v== []:\n",
    "            return [-1]\n",
    "    return sorted(arr_v)"
   ]
  },
  {
   "cell_type": "code",
   "execution_count": 2,
   "id": "e7915230",
   "metadata": {},
   "outputs": [
    {
     "data": {
      "text/plain": [
       "[5, 10]"
      ]
     },
     "execution_count": 2,
     "metadata": {},
     "output_type": "execute_result"
    }
   ],
   "source": [
    "solution([5, 9, 7, 10], 5)"
   ]
  },
  {
   "cell_type": "markdown",
   "id": "c96ca743",
   "metadata": {},
   "source": [
    "정답은 맞았지만 채점에서 실패!"
   ]
  },
  {
   "cell_type": "markdown",
   "id": "b1ee1afa",
   "metadata": {},
   "source": [
    "두 번째 풀이"
   ]
  },
  {
   "cell_type": "code",
   "execution_count": 4,
   "id": "ab96dcd2",
   "metadata": {},
   "outputs": [],
   "source": [
    "def solution(arr, divisor):\n",
    "    arr_v = []\n",
    "\n",
    "    for v in arr:\n",
    "        if v % divisor == 0:\n",
    "            arr_v.append(v)\n",
    "      \n",
    "\n",
    "    if len(arr_v) == 0:       #arr_v의 값이 0이면 변수값을 바꾸어 이천해주었다. \n",
    "        arr_v = [-1]\n",
    "    return list(sorted(arr_v))#리턴은 어디로 걸러져 나오느냐에 따라 값이 달라진다."
   ]
  },
  {
   "cell_type": "code",
   "execution_count": 5,
   "id": "ff10a92c",
   "metadata": {},
   "outputs": [
    {
     "data": {
      "text/plain": [
       "[5, 10]"
      ]
     },
     "execution_count": 5,
     "metadata": {},
     "output_type": "execute_result"
    }
   ],
   "source": [
    "solution([5, 9, 7, 10], 5)"
   ]
  },
  {
   "cell_type": "code",
   "execution_count": null,
   "id": "5b46a9f8",
   "metadata": {},
   "outputs": [],
   "source": []
  }
 ],
 "metadata": {
  "kernelspec": {
   "display_name": "Python 3",
   "language": "python",
   "name": "python3"
  },
  "language_info": {
   "codemirror_mode": {
    "name": "ipython",
    "version": 3
   },
   "file_extension": ".py",
   "mimetype": "text/x-python",
   "name": "python",
   "nbconvert_exporter": "python",
   "pygments_lexer": "ipython3",
   "version": "3.8.8"
  }
 },
 "nbformat": 4,
 "nbformat_minor": 5
}
