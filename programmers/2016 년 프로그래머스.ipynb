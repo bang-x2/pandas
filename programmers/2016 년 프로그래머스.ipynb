{
 "cells": [
  {
   "cell_type": "code",
   "execution_count": 1,
   "id": "7403d457",
   "metadata": {},
   "outputs": [
    {
     "data": {
      "text/plain": [
       "'TUE'"
      ]
     },
     "execution_count": 1,
     "metadata": {},
     "output_type": "execute_result"
    }
   ],
   "source": [
    "def solution(a, b):\n",
    "    month = [31,29,31,30,31,30,31,31,30,31,30,31]       #1~12월달의 일수\n",
    "    seven = ['FRI','SAT','SUN','MON','TUE','WED','THU',] #1월1일 금요일부터 시작 이어서 인덱스 0부터 FRI로 지정해주었다.\n",
    "    sum_ = []                                                      #a월b일 까지의 일수의 합을 답아줄 곳\n",
    "    for i in range(a):                                             #원하는 월수까지만 반복해줘\n",
    "        sum_.append(month[i])                                #원하는 월까지 일수(month) 들을 넣어줘\n",
    "        day=sum(sum_)-(month[i]-b)                         #(month[i]-b)는 원하는 달의 남은 일수를 ex)31-7=24\n",
    "        today=day%7-1                                         #1일 부터 금요일이라고 했으나 요일 인덱스는 0부터 시작 하기에 1을 빼주었다. ==> seven\n",
    "    return seven[today]\n",
    "\n",
    "a = 12\n",
    "b = 27\n",
    "solution(a, b)"
   ]
  }
 ],
 "metadata": {
  "kernelspec": {
   "display_name": "Python 3",
   "language": "python",
   "name": "python3"
  },
  "language_info": {
   "codemirror_mode": {
    "name": "ipython",
    "version": 3
   },
   "file_extension": ".py",
   "mimetype": "text/x-python",
   "name": "python",
   "nbconvert_exporter": "python",
   "pygments_lexer": "ipython3",
   "version": "3.8.8"
  }
 },
 "nbformat": 4,
 "nbformat_minor": 5
}
