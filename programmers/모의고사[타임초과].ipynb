{
 "cells": [
  {
   "cell_type": "code",
   "execution_count": 1,
   "id": "fa769380",
   "metadata": {},
   "outputs": [],
   "source": [
    "num1 = [1, 2, 3, 4, 5]\n",
    "num2 = [2, 1, 2, 3, 2, 4, 2, 5]\n",
    "num3 = [3, 3, 1, 1, 2, 2, 4, 4, 5, 5]\n",
    "answers = [1,2,3,4,5]\n",
    "answers1= [1,3,2,4,2]\n",
    "#for 반복문에서 궂이 객체의 수를 안 맞추어도 된다.\n",
    "#문제와 답을 비교해서 제일 많이 맞은 사람을 리턴\n",
    "#                             같으면 같은 사람끼리 리턴"
   ]
  },
  {
   "cell_type": "code",
   "execution_count": 2,
   "id": "ca5a0b09",
   "metadata": {},
   "outputs": [
    {
     "name": "stdout",
     "output_type": "stream",
     "text": [
      "[40, 8, 4]\n"
     ]
    }
   ],
   "source": [
    "#공배수를 생각해서 range를 맞춰주었다.\n",
    "answer1 = []\n",
    "answer2 = []\n",
    "answer3 = []\n",
    "for i in range(0,40):\n",
    "    if (num1*8)[i] == (answers*8)[i]:\n",
    "        answer1.append(i)\n",
    "    if (num2*5)[i] == (answers*8)[i]:\n",
    "        answer2.append(i)\n",
    "    if (num3*4)[i] == (answers*8)[i]:\n",
    "        answer3.append(i)\n",
    "print([len(answer1),len(answer2),len(answer3)])"
   ]
  },
  {
   "cell_type": "code",
   "execution_count": 3,
   "id": "11dabb85",
   "metadata": {},
   "outputs": [],
   "source": [
    "#위 풀이가 아닌것 같아 바꾸어주었다.\n",
    "#range 를 5로 고정했다.\n",
    "def solution(answers):\n",
    "    num1 = [1, 2, 3, 4, 5]\n",
    "    num2 = [2, 1, 2, 3, 2, 4, 2, 5]\n",
    "    num3 = [3, 3, 1, 1, 2, 2, 4, 4, 5, 5]\n",
    "    answer1 = []\n",
    "    answer2 = []\n",
    "    answer3 = []\n",
    "    for i in range(len(answers)):\n",
    "        if (num1)[i] == (answers)[i]:\n",
    "            answer1.append(i)\n",
    "        if (num2)[i] == (answers)[i]:\n",
    "            answer2.append(i)\n",
    "        if (num3)[i] == (answers)[i]:\n",
    "            answer3.append(i)\n",
    "            if len(answer1) == len(answer2) == len(answer3):\n",
    "                return [1,2,3]\n",
    "    return [1]"
   ]
  },
  {
   "cell_type": "code",
   "execution_count": 4,
   "id": "414d64e1",
   "metadata": {},
   "outputs": [
    {
     "data": {
      "text/plain": [
       "[1, 2, 3]"
      ]
     },
     "execution_count": 4,
     "metadata": {},
     "output_type": "execute_result"
    }
   ],
   "source": [
    "answers =[1,3,2,4,2]\n",
    "solution(answers)"
   ]
  },
  {
   "cell_type": "markdown",
   "id": "7e246a8e",
   "metadata": {},
   "source": [
    "결과는 나왔지만 타임에러!"
   ]
  }
 ],
 "metadata": {
  "kernelspec": {
   "display_name": "Python 3",
   "language": "python",
   "name": "python3"
  },
  "language_info": {
   "codemirror_mode": {
    "name": "ipython",
    "version": 3
   },
   "file_extension": ".py",
   "mimetype": "text/x-python",
   "name": "python",
   "nbconvert_exporter": "python",
   "pygments_lexer": "ipython3",
   "version": "3.8.8"
  }
 },
 "nbformat": 4,
 "nbformat_minor": 5
}
