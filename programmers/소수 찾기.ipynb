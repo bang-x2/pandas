{
 "cells": [
  {
   "cell_type": "code",
   "execution_count": 1,
   "id": "ac9297ce",
   "metadata": {},
   "outputs": [],
   "source": [
    "def solution(n):\n",
    "    sum = 0\n",
    "    c = 0\n",
    "    for i in range(2,n+1):    # 2 에서 원하는 숫자까지 범위\n",
    "        for j in range(2,i):  # 2에서 원하는 숫자 -1까지 범위 (본인을 뺀)\n",
    "            if i % j == 0:    # i 와 j를 비교하여 나머지가 0이면 (1개라도 나오면 카운트)\n",
    "                c += 1        # 카운터하라 (검증용)완천히나누어지면 소수가 아니기 때문\n",
    "        if c == 0:            # 카운터 값이 0이면 카운터하라 (소수찾는 것 본인 and 2)\n",
    "            sum += 1          # 소수의 개수를 카운트하는 곳\n",
    "        c = 0                 #카운터하고 리셋 (중복카운트 피하기)\n",
    "    return sum"
   ]
  },
  {
   "cell_type": "code",
   "execution_count": 2,
   "id": "72e3908f",
   "metadata": {},
   "outputs": [
    {
     "data": {
      "text/plain": [
       "4"
      ]
     },
     "execution_count": 2,
     "metadata": {},
     "output_type": "execute_result"
    }
   ],
   "source": [
    "numberOfPrime(8)"
   ]
  }
 ],
 "metadata": {
  "kernelspec": {
   "display_name": "Python 3",
   "language": "python",
   "name": "python3"
  },
  "language_info": {
   "codemirror_mode": {
    "name": "ipython",
    "version": 3
   },
   "file_extension": ".py",
   "mimetype": "text/x-python",
   "name": "python",
   "nbconvert_exporter": "python",
   "pygments_lexer": "ipython3",
   "version": "3.8.11"
  }
 },
 "nbformat": 4,
 "nbformat_minor": 5
}
