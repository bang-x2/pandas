{
 "cells": [
  {
   "cell_type": "code",
   "execution_count": 21,
   "id": "394cf310",
   "metadata": {
    "scrolled": true
   },
   "outputs": [
    {
     "data": {
      "text/plain": [
       "-1"
      ]
     },
     "execution_count": 21,
     "metadata": {},
     "output_type": "execute_result"
    }
   ],
   "source": [
    "import dlib\n",
    "import cv2\n",
    "\n",
    "\n",
    "detector = dlib.get_frontal_face_detector()\n",
    "predictor = dlib.shape_predictor('./shape_predictor_68_face_landmarks.dat')\n",
    "\n",
    "img = cv2.imread('./b.jpg')\n",
    "gray = cv2.cvtColor(img, cv2.COLOR_BGR2GRAY)\n",
    "faces = detector(gray)\n",
    "for rect in faces:\n",
    "    x,y = rect.left(), rect.top()\n",
    "    w,h = rect.right()-x, rect.bottom()-y\n",
    "    cv2.rectangle(img, (x,y),(x+w,y+h),(0,255,0),1)\n",
    "    \n",
    "    shape = predictor(gray, rect)\n",
    "    for i in range(68):\n",
    "        part = shape.part(i)\n",
    "        cv2.circle(img, (part.x, part.y),2,(0,0,255),-1)\n",
    "        cv2.putText(img, str(i), (part.x, part.y), cv2.FONT_HERSHEY_PLAIN, \\\n",
    "                   0.5 ,(255,255,255),1, cv2.LINE_AA)\n",
    "\n",
    "cv2.imshow(\"face landmark\", img)\n",
    "cv2.waitKey(0)"
   ]
  },
  {
   "cell_type": "code",
   "execution_count": 60,
   "id": "6afb8e09",
   "metadata": {},
   "outputs": [],
   "source": [
    "import dlib\n",
    "import numpy as np\n",
    "import cv2\n",
    "\n",
    "\n",
    "detector = dlib.get_frontal_face_detector()\n",
    "predictor = dlib.shape_predictor('./shape_predictor_68_face_landmarks.dat')\n",
    "\n",
    "img = cv2.imread('./man_face.jpg')\n",
    "h ,w = img.shape[:2]\n",
    "gray = cv2.cvtColor(img, cv2.COLOR_BGR2GRAY)\n",
    "rects = faces = detector(gray)\n",
    "\n",
    "points = []\n",
    "for rect in rects:\n",
    "    \n",
    "    shape = predictor(gray, rect)\n",
    "    for i in range(68):  \n",
    "        part = shape.part(i)\n",
    "        points.append((part.x , part.y))\n",
    "        \n",
    "        subdiv = cv2.Subdiv2D((0,0,w,h))\n",
    "        \n",
    "        subdiv.insert(points)\n",
    "        \n",
    "        triangleList = subdiv.getTriangleList()\n",
    "        \n",
    "        h ,w = img.shape[:2]\n",
    "        for t in triangleList:\n",
    "            pts = t.reshape(-1,2).astype(np.int32)\n",
    "            \n",
    "            if (pts < 0).sum() or (pts[:,0] > w).sum() or (pts[:,1] > h).sum():\n",
    "                continue\n",
    "            cv2.polylines(img, [pts], True, (255,255,255), 1, cv2.LINE_AA)\n",
    "        \n",
    "    cv2.imshow(\"Delaunay\",img)\n",
    "    cv2.waitKey(0)"
   ]
  },
  {
   "cell_type": "code",
   "execution_count": null,
   "id": "ffe904ae",
   "metadata": {},
   "outputs": [],
   "source": []
  }
 ],
 "metadata": {
  "kernelspec": {
   "display_name": "Python 3 (ipykernel)",
   "language": "python",
   "name": "python3"
  },
  "language_info": {
   "codemirror_mode": {
    "name": "ipython",
    "version": 3
   },
   "file_extension": ".py",
   "mimetype": "text/x-python",
   "name": "python",
   "nbconvert_exporter": "python",
   "pygments_lexer": "ipython3",
   "version": "3.8.8"
  }
 },
 "nbformat": 4,
 "nbformat_minor": 5
}
