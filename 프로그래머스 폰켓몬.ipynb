{
 "cells": [
  {
   "cell_type": "markdown",
   "id": "06f7b0d0",
   "metadata": {},
   "source": [
    "# 문제 설명\n",
    "당신은 폰켓몬을 잡기 위한 오랜 여행 끝에, 홍 박사님의 연구실에 도착했습니다. 홍 박사님은 당신에게 자신의 연구실에 있는 총 N 마리의 폰켓몬 중에서 N/2마리를 가져가도 좋다고 했습니다.\n",
    "홍 박사님 연구실의 폰켓몬은 종류에 따라 번호를 붙여 구분합니다. 따라서 같은 종류의 폰켓몬은 같은 번호를 가지고 있습니다. 예를 들어 연구실에 총 4마리의 폰켓몬이 있고, 각 폰켓몬의 종류 번호가 [3번, 1번, 2번, 3번]이라면 이는 3번 폰켓몬 두 마리, 1번 폰켓몬 한 마리, 2번 폰켓몬 한 마리가 있음을 나타냅니다. 이때, 4마리의 폰켓몬 중 2마리를 고르는 방법은 다음과 같이 6가지가 있습니다."
   ]
  },
  {
   "cell_type": "code",
   "execution_count": 1,
   "id": "3054de6b",
   "metadata": {},
   "outputs": [],
   "source": [
    "def solution(nums):\n",
    "    nums_a = set(map(str,nums)) #폰켓몬 중복 개체합치기\n",
    "    len_a = len(nums)/2            #촣마리수 / 2 = 가져갈수있는 마리수\n",
    "    if int(len_a) > len(nums_a):   # 가져가는 마리수(3마리) > 종류 (6가지)\n",
    "        return len(nums_a)         #아무리 많이 가져간다고 해도 종류가지수 이상으로 못가져 간다\n",
    "    return int(len_a)                 #가져가는 수가 모두다른종류라도 가져갈수있는 수가 3마리"
   ]
  },
  {
   "cell_type": "code",
   "execution_count": 2,
   "id": "76c9b432",
   "metadata": {},
   "outputs": [
    {
     "data": {
      "text/plain": [
       "3"
      ]
     },
     "execution_count": 2,
     "metadata": {},
     "output_type": "execute_result"
    }
   ],
   "source": [
    "solution([3,3,2,2,1,1])"
   ]
  },
  {
   "cell_type": "code",
   "execution_count": null,
   "id": "0500743d",
   "metadata": {},
   "outputs": [],
   "source": []
  }
 ],
 "metadata": {
  "kernelspec": {
   "display_name": "Python 3",
   "language": "python",
   "name": "python3"
  },
  "language_info": {
   "codemirror_mode": {
    "name": "ipython",
    "version": 3
   },
   "file_extension": ".py",
   "mimetype": "text/x-python",
   "name": "python",
   "nbconvert_exporter": "python",
   "pygments_lexer": "ipython3",
   "version": "3.8.8"
  }
 },
 "nbformat": 4,
 "nbformat_minor": 5
}
