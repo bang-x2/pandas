{
 "cells": [
  {
   "cell_type": "code",
   "execution_count": 40,
   "id": "26a21d48",
   "metadata": {},
   "outputs": [],
   "source": [
    "def bubble(arr):\n",
    "    for i in range(len(arr),-1,-1):\n",
    "        for j in range(i-1):\n",
    "            if arr[j] > arr[j+1]:\n",
    "                arr[j] , arr[j+1] = arr[j+1], arr[j]    \n",
    "    return arr           "
   ]
  },
  {
   "cell_type": "code",
   "execution_count": 41,
   "id": "c2ab44d6",
   "metadata": {
    "scrolled": true
   },
   "outputs": [
    {
     "data": {
      "text/plain": [
       "[1, 2, 3, 4, 5, 6, 7, 8, 10, 11, 16, 21]"
      ]
     },
     "execution_count": 41,
     "metadata": {},
     "output_type": "execute_result"
    }
   ],
   "source": [
    "arr = [4,3,2,1,8,7,5,10,11,16,21,6]\n",
    "bubble(arr)"
   ]
  },
  {
   "cell_type": "code",
   "execution_count": null,
   "id": "47ac19e3",
   "metadata": {},
   "outputs": [],
   "source": []
  }
 ],
 "metadata": {
  "kernelspec": {
   "display_name": "Python 3 (ipykernel)",
   "language": "python",
   "name": "python3"
  },
  "language_info": {
   "codemirror_mode": {
    "name": "ipython",
    "version": 3
   },
   "file_extension": ".py",
   "mimetype": "text/x-python",
   "name": "python",
   "nbconvert_exporter": "python",
   "pygments_lexer": "ipython3",
   "version": "3.8.8"
  }
 },
 "nbformat": 4,
 "nbformat_minor": 5
}
