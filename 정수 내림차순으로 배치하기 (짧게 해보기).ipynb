{
 "cells": [
  {
   "cell_type": "code",
   "execution_count": 1,
   "id": "05c481d2",
   "metadata": {},
   "outputs": [],
   "source": [
    "def solution(n):\n",
    "    x = sorted(map(int,str(n)))\n",
    "\n",
    "    x.reverse()\n",
    "           \n",
    "    z=\"\".join(map(str, x))\n",
    "    y=int(z)\n",
    "    \n",
    "    return y"
   ]
  },
  {
   "cell_type": "code",
   "execution_count": 2,
   "id": "a3c88365",
   "metadata": {
    "scrolled": true
   },
   "outputs": [
    {
     "data": {
      "text/plain": [
       "873211"
      ]
     },
     "execution_count": 2,
     "metadata": {},
     "output_type": "execute_result"
    }
   ],
   "source": [
    "solution(118372)"
   ]
  },
  {
   "cell_type": "markdown",
   "id": "8e8925a5",
   "metadata": {},
   "source": [
    "# 짧게 만들어보자!"
   ]
  },
  {
   "cell_type": "code",
   "execution_count": 3,
   "id": "2b7fe570",
   "metadata": {},
   "outputs": [],
   "source": [
    "def solution(n):\n",
    "    return int(''.join(sorted(map(str,str(n)), reverse = True)))"
   ]
  },
  {
   "cell_type": "code",
   "execution_count": 4,
   "id": "87cdc6a3",
   "metadata": {},
   "outputs": [
    {
     "data": {
      "text/plain": [
       "873211"
      ]
     },
     "execution_count": 4,
     "metadata": {},
     "output_type": "execute_result"
    }
   ],
   "source": [
    "solution(118372)"
   ]
  }
 ],
 "metadata": {
  "kernelspec": {
   "display_name": "Python 3",
   "language": "python",
   "name": "python3"
  },
  "language_info": {
   "codemirror_mode": {
    "name": "ipython",
    "version": 3
   },
   "file_extension": ".py",
   "mimetype": "text/x-python",
   "name": "python",
   "nbconvert_exporter": "python",
   "pygments_lexer": "ipython3",
   "version": "3.8.8"
  }
 },
 "nbformat": 4,
 "nbformat_minor": 5
}
