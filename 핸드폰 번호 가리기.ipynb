{
 "cells": [
  {
   "cell_type": "code",
   "execution_count": 3,
   "metadata": {},
   "outputs": [],
   "source": [
    "#제한 조건\n",
    "#s는 길이 4 이상, 20이하인 문자열입니다.\n",
    "\n",
    "phone_number=\"01033334444\""
   ]
  },
  {
   "cell_type": "markdown",
   "metadata": {},
   "source": [
    "풀기전 :슬라이스를 이용해 오른쪽 문자열 4개를 뺀 나머지를 바꾸자"
   ]
  },
  {
   "cell_type": "code",
   "execution_count": 4,
   "metadata": {
    "scrolled": true
   },
   "outputs": [
    {
     "data": {
      "text/plain": [
       "11"
      ]
     },
     "execution_count": 4,
     "metadata": {},
     "output_type": "execute_result"
    }
   ],
   "source": [
    "#과정\n",
    "change = len(phone_number[:-4])*'*'  \n",
    "unchange = phone_number[:-4]\n",
    "phone_number.replace(unchange,change)"
   ]
  },
  {
   "cell_type": "code",
   "execution_count": 24,
   "metadata": {},
   "outputs": [],
   "source": [
    "#문자열 바꾸기 replace 매서드\n",
    "def solution(s):\n",
    "    change = len(s[:-4])*'*'       # 주어진 문자열 마지막4개뺀 나머지만큼의 개수를 \"*\"로 바꿔줘\n",
    "    unchange = s[:-4]              # 바꿀 문자의 범위를 지정해주세요\n",
    "    s = s.replace(unchange,change) # (기존문자열,바꿀문자열)을 통해 핸드폰번호가 가려진다....\n",
    "    return s\n",
    "\n",
    "\n",
    "\n",
    "solution(\"01033334444\")"
   ]
  },
  {
   "cell_type": "code",
   "execution_count": 22,
   "metadata": {},
   "outputs": [],
   "source": [
    "#다른사람의 풀이\n",
    "def solution(s):\n",
    "    return (len(s[:])-4)*'*'+s[-4:]\n",
    "\n",
    "solution(\"01033334444\")"
   ]
  },
  {
   "cell_type": "code",
   "execution_count": 38,
   "metadata": {},
   "outputs": [],
   "source": [
    "# for문으로 풀어보기\n",
    "def solution(s):\n",
    "    for i in range(len(s)-3):\n",
    "        a = str(i*\"*\")+s[-4:]\n",
    "    return a\n",
    "\n",
    "solution(\"01033334444\")"
   ]
  }
 ],
 "metadata": {
  "kernelspec": {
   "display_name": "Python 3",
   "language": "python",
   "name": "python3"
  },
  "language_info": {
   "codemirror_mode": {
    "name": "ipython",
    "version": 3
   },
   "file_extension": ".py",
   "mimetype": "text/x-python",
   "name": "python",
   "nbconvert_exporter": "python",
   "pygments_lexer": "ipython3",
   "version": "3.8.5"
  }
 },
 "nbformat": 4,
 "nbformat_minor": 4
}
