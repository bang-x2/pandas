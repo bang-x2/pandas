{
 "cells": [
  {
   "cell_type": "markdown",
   "id": "70ab2f31",
   "metadata": {},
   "source": [
    "# 문제설명\n",
    "길이가 n이고, \"수박수박수박수....\"와 같은 패턴을 유지하는 문자열을 리턴하는 함수, solution을 완성하세요. 예를들어 n이 4이면 \"수박수박\"을 리턴하고 3이라면 \"수박수\"를 리턴하면 됩니다.\n",
    "\n",
    "\n",
    "## 제한조건\n",
    "n은 길이 10,000이하인 자연수입니다.\n",
    "\n",
    "n = 3\n",
    "\n",
    "return = \"수박수\""
   ]
  },
  {
   "cell_type": "code",
   "execution_count": null,
   "id": "51db9cb9",
   "metadata": {},
   "outputs": [],
   "source": [
    "풀기 전 생각 : 짝수 홀수를 이용해 \"수박\" 과 \"수\"를 만들어 조합해준다."
   ]
  },
  {
   "cell_type": "code",
   "execution_count": 41,
   "id": "deca04dc",
   "metadata": {},
   "outputs": [],
   "source": [
    "#첫번째\n",
    "def solution(n):\n",
    "    if n % 2==0:\n",
    "        print(\"수박\" * (n/2))\n",
    "    else:\n",
    "        print(\"수박\" * (n/2)+\"수\")"
   ]
  },
  {
   "cell_type": "code",
   "execution_count": 42,
   "id": "f25956fb",
   "metadata": {
    "scrolled": true
   },
   "outputs": [
    {
     "ename": "TypeError",
     "evalue": "can't multiply sequence by non-int of type 'float'",
     "output_type": "error",
     "traceback": [
      "\u001b[1;31m---------------------------------------------------------------------------\u001b[0m",
      "\u001b[1;31mTypeError\u001b[0m                                 Traceback (most recent call last)",
      "\u001b[1;32m<ipython-input-42-6ed755256a01>\u001b[0m in \u001b[0;36m<module>\u001b[1;34m\u001b[0m\n\u001b[1;32m----> 1\u001b[1;33m \u001b[0msolution\u001b[0m\u001b[1;33m(\u001b[0m\u001b[1;36m4\u001b[0m\u001b[1;33m)\u001b[0m\u001b[1;33m\u001b[0m\u001b[1;33m\u001b[0m\u001b[0m\n\u001b[0m",
      "\u001b[1;32m<ipython-input-41-cc70280200c9>\u001b[0m in \u001b[0;36msolution\u001b[1;34m(n)\u001b[0m\n\u001b[0;32m      2\u001b[0m \u001b[1;32mdef\u001b[0m \u001b[0msolution\u001b[0m\u001b[1;33m(\u001b[0m\u001b[0mn\u001b[0m\u001b[1;33m)\u001b[0m\u001b[1;33m:\u001b[0m\u001b[1;33m\u001b[0m\u001b[1;33m\u001b[0m\u001b[0m\n\u001b[0;32m      3\u001b[0m     \u001b[1;32mif\u001b[0m \u001b[0mn\u001b[0m \u001b[1;33m%\u001b[0m \u001b[1;36m2\u001b[0m\u001b[1;33m==\u001b[0m\u001b[1;36m0\u001b[0m\u001b[1;33m:\u001b[0m\u001b[1;33m\u001b[0m\u001b[1;33m\u001b[0m\u001b[0m\n\u001b[1;32m----> 4\u001b[1;33m         \u001b[0mprint\u001b[0m\u001b[1;33m(\u001b[0m\u001b[1;34m\"수박\"\u001b[0m \u001b[1;33m*\u001b[0m \u001b[1;33m(\u001b[0m\u001b[0mn\u001b[0m\u001b[1;33m/\u001b[0m\u001b[1;36m2\u001b[0m\u001b[1;33m)\u001b[0m\u001b[1;33m)\u001b[0m\u001b[1;33m\u001b[0m\u001b[1;33m\u001b[0m\u001b[0m\n\u001b[0m\u001b[0;32m      5\u001b[0m     \u001b[1;32melse\u001b[0m\u001b[1;33m:\u001b[0m\u001b[1;33m\u001b[0m\u001b[1;33m\u001b[0m\u001b[0m\n\u001b[0;32m      6\u001b[0m         \u001b[0mprint\u001b[0m\u001b[1;33m(\u001b[0m\u001b[1;34m\"수박\"\u001b[0m \u001b[1;33m*\u001b[0m \u001b[1;33m(\u001b[0m\u001b[0mn\u001b[0m\u001b[1;33m/\u001b[0m\u001b[1;36m2\u001b[0m\u001b[1;33m)\u001b[0m\u001b[1;33m+\u001b[0m\u001b[1;34m\"수\"\u001b[0m\u001b[1;33m)\u001b[0m\u001b[1;33m\u001b[0m\u001b[1;33m\u001b[0m\u001b[0m\n",
      "\u001b[1;31mTypeError\u001b[0m: can't multiply sequence by non-int of type 'float'"
     ]
    }
   ],
   "source": [
    "solution(4)"
   ]
  },
  {
   "cell_type": "markdown",
   "id": "4c4c741e",
   "metadata": {},
   "source": [
    "# 에러를 잘 읽고난 후 고쳐보았다.\n",
    "TypeError: can't multiply sequence by non-int of type 'float'\n",
    "\n",
    "뜻) 'float'유형의 정수가 아닌 시퀀스를 곱할 수 없습니다."
   ]
  },
  {
   "cell_type": "code",
   "execution_count": 50,
   "id": "2ad22615",
   "metadata": {},
   "outputs": [],
   "source": [
    "#두번째\n",
    "def solution(n):\n",
    "    answer = ''\n",
    "    if n % 2==0:\n",
    "        answer = \"수박\" * (n//2)        # // 는 나누기 연산 후 소수점 이하의 수를 버리고, (정수 부분)의 수만 구함\n",
    "        return answer\n",
    "    else:\n",
    "        answer = \"수박\" * (n//2)+\"수\"\n",
    "        return answer"
   ]
  },
  {
   "cell_type": "code",
   "execution_count": 51,
   "id": "b94a0e7a",
   "metadata": {},
   "outputs": [
    {
     "data": {
      "text/plain": [
       "'수박수박수'"
      ]
     },
     "execution_count": 51,
     "metadata": {},
     "output_type": "execute_result"
    }
   ],
   "source": [
    "solution(5)"
   ]
  },
  {
   "cell_type": "markdown",
   "id": "07e721ea",
   "metadata": {},
   "source": [
    "# 다른 사람들의 풀이"
   ]
  },
  {
   "cell_type": "code",
   "execution_count": 52,
   "id": "62a24be5",
   "metadata": {},
   "outputs": [],
   "source": [
    "#1 (문자열의 슬라이스를 이용)\n",
    "def solution(n):\n",
    "    s = \"수박\" * n #부가 설명이 필요없이 갈끔하다\n",
    "    return s[:n]"
   ]
  },
  {
   "cell_type": "code",
   "execution_count": 53,
   "id": "9444e97d",
   "metadata": {},
   "outputs": [
    {
     "data": {
      "text/plain": [
       "'수박수박수'"
      ]
     },
     "execution_count": 53,
     "metadata": {},
     "output_type": "execute_result"
    }
   ],
   "source": [
    "solution(5)"
   ]
  },
  {
   "cell_type": "code",
   "execution_count": null,
   "id": "3be512f2",
   "metadata": {},
   "outputs": [],
   "source": [
    "#2\n",
    "def water_melon(n):\n",
    "    return \"수박\"*(n//2) + \"수\"*(n%2) #몫만있는경우 나머지가 있는경우를 if구문을 쓰지않는 버젼 같다."
   ]
  },
  {
   "cell_type": "code",
   "execution_count": null,
   "id": "21b4a17c",
   "metadata": {},
   "outputs": [],
   "source": [
    "#3 (이런 풀이도 잠깐 생각 했지만 복잡 할 것 같아 필자는 시도 하지 않았다.)\n",
    "def water_melon(n):\n",
    "    \n",
    "    wm=\"\"\n",
    "    for i in range(n):        # n의 범위 (0,n) ex/ n=2, (0,2) = 0,1\n",
    "        if (i%2==0):          # n의 수를 1개씩 나누어 나머지가 0이면 wm에 \"수\"를 담아줘 EX n=2, (수x) \n",
    "            wm=wm+\"수\"\n",
    "        elif (i%2==1):        \n",
    "            wm=wm+\"박\"   # n위 수를 1개씩 나누어 나머지가 1이면 wm에 \"박\"를 담아줘 EX n=2, (x박) \n",
    "\n",
    "    return wm"
   ]
  },
  {
   "cell_type": "markdown",
   "id": "30146b59",
   "metadata": {},
   "source": [
    "# 이 문제를 통해 알게된 점"
   ]
  },
  {
   "cell_type": "code",
   "execution_count": 55,
   "id": "bc2abc0d",
   "metadata": {},
   "outputs": [
    {
     "ename": "TypeError",
     "evalue": "can't multiply sequence by non-int of type 'float'",
     "output_type": "error",
     "traceback": [
      "\u001b[1;31m---------------------------------------------------------------------------\u001b[0m",
      "\u001b[1;31mTypeError\u001b[0m                                 Traceback (most recent call last)",
      "\u001b[1;32m<ipython-input-55-5d05feaca910>\u001b[0m in \u001b[0;36m<module>\u001b[1;34m\u001b[0m\n\u001b[1;32m----> 1\u001b[1;33m \u001b[0ma\u001b[0m \u001b[1;33m=\u001b[0m \u001b[1;34m\"문자\"\u001b[0m \u001b[1;33m*\u001b[0m \u001b[1;36m2.4\u001b[0m\u001b[1;33m\u001b[0m\u001b[1;33m\u001b[0m\u001b[0m\n\u001b[0m",
      "\u001b[1;31mTypeError\u001b[0m: can't multiply sequence by non-int of type 'float'"
     ]
    }
   ],
   "source": [
    "a = \"문자\" * 2.4"
   ]
  },
  {
   "cell_type": "markdown",
   "id": "ced6cb37",
   "metadata": {},
   "source": [
    "문자열과 실수는 연산이 안된다.\n",
    "해결: 정수로는 연산이 된다."
   ]
  },
  {
   "cell_type": "code",
   "execution_count": null,
   "id": "a4674b04",
   "metadata": {},
   "outputs": [],
   "source": []
  }
 ],
 "metadata": {
  "kernelspec": {
   "display_name": "Python 3",
   "language": "python",
   "name": "python3"
  },
  "language_info": {
   "codemirror_mode": {
    "name": "ipython",
    "version": 3
   },
   "file_extension": ".py",
   "mimetype": "text/x-python",
   "name": "python",
   "nbconvert_exporter": "python",
   "pygments_lexer": "ipython3",
   "version": "3.8.8"
  }
 },
 "nbformat": 4,
 "nbformat_minor": 5
}
