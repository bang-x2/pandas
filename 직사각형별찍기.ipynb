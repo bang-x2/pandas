{
 "cells": [
  {
   "cell_type": "markdown",
   "id": "ce7cec9e",
   "metadata": {},
   "source": [
    "내가 푼 풀이"
   ]
  },
  {
   "cell_type": "code",
   "execution_count": null,
   "id": "ba8056c8",
   "metadata": {},
   "outputs": [],
   "source": [
    "a, b = map(int, input().strip().split(' '))  # 기본 조건이다.\n",
    "for i in [a]:                                # a와\n",
    "    for e in [b]:                            # b를 리스트로 씌웠다.\n",
    "        c = \"*\"*e                            # \" * \"를 e를 곱해준다.\n",
    "        for d in c:                          # c 를 다시 넣어주고   \n",
    "            print(d*i)                       # i 와 곱해준다.      "
   ]
  },
  {
   "cell_type": "markdown",
   "id": "10810a19",
   "metadata": {},
   "source": [
    "다른 사람의 풀이"
   ]
  },
  {
   "cell_type": "code",
   "execution_count": null,
   "id": "75601e69",
   "metadata": {},
   "outputs": [],
   "source": [
    "a, b = map(int, input().strip().split(' '))\n",
    "answer = ('*'*a +'\\n')*b                     # *개수 곱하기 a 를 다음줄로 넘겨준다. 를 b번 반복"
   ]
  },
  {
   "cell_type": "code",
   "execution_count": null,
   "id": "2cd17027",
   "metadata": {},
   "outputs": [],
   "source": [
    "a, b = map(int, input().strip().split(' '))\n",
    "for _ in range(b):                           # b번 반복해줘 (세로)\n",
    "    print('*'*a)                             # *을 a번 반복해줘"
   ]
  }
 ],
 "metadata": {
  "kernelspec": {
   "display_name": "Python 3",
   "language": "python",
   "name": "python3"
  },
  "language_info": {
   "codemirror_mode": {
    "name": "ipython",
    "version": 3
   },
   "file_extension": ".py",
   "mimetype": "text/x-python",
   "name": "python",
   "nbconvert_exporter": "python",
   "pygments_lexer": "ipython3",
   "version": "3.8.8"
  }
 },
 "nbformat": 4,
 "nbformat_minor": 5
}
