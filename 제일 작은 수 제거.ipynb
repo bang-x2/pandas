{
 "cells": [
  {
   "cell_type": "markdown",
   "id": "c15e8b57",
   "metadata": {},
   "source": [
    "# 제일 작은 수 제거"
   ]
  },
  {
   "cell_type": "markdown",
   "id": "ce1cbdd8",
   "metadata": {},
   "source": [
    "### arr = [4,3,2,1] return = [4,3,2]\n",
    "\n",
    "### arr = [10]        return = [-1]"
   ]
  },
  {
   "cell_type": "markdown",
   "id": "8810217d",
   "metadata": {},
   "source": [
    "과정 생각 : 최소값을 구한뒤 append or pop 으로 넣어준다음\n",
    "if 문으로 -1 return 하기!"
   ]
  },
  {
   "cell_type": "code",
   "execution_count": 28,
   "id": "d4a17a4a",
   "metadata": {
    "scrolled": true
   },
   "outputs": [
    {
     "data": {
      "text/plain": [
       "[4, 2, 1]"
      ]
     },
     "execution_count": 28,
     "metadata": {},
     "output_type": "execute_result"
    }
   ],
   "source": [
    "# 첫 번째\n",
    "arr = [4,3,2,1]\n",
    "min_v=min(arr) # 최소값을 구해준다\n",
    "arr.pop(min_v)  # 구한 최소값을 pop로빼준다.\n",
    "arr                 # 최소 값이 아닌 인덱스[1] 값이 빠져버렸다."
   ]
  },
  {
   "cell_type": "code",
   "execution_count": 29,
   "id": "e8953e52",
   "metadata": {},
   "outputs": [
    {
     "data": {
      "text/plain": [
       "3"
      ]
     },
     "execution_count": 29,
     "metadata": {},
     "output_type": "execute_result"
    }
   ],
   "source": [
    "arr = [4,3,2,1]\n",
    "a[1]"
   ]
  },
  {
   "cell_type": "code",
   "execution_count": 9,
   "id": "b4b36d98",
   "metadata": {},
   "outputs": [
    {
     "data": {
      "text/plain": [
       "[4, 3, 2]"
      ]
     },
     "execution_count": 9,
     "metadata": {},
     "output_type": "execute_result"
    }
   ],
   "source": [
    "# 두 번째\n",
    "arr = [4,3,2,1]\n",
    "min_v=min(arr)\n",
    "arr.remove(min_v) # 원하는 값을 찾아 없애준다 단, 두개있을 경우 처음 찾은 값을 빼준다.\n",
    "arr"
   ]
  },
  {
   "cell_type": "code",
   "execution_count": 24,
   "id": "1d073c3b",
   "metadata": {},
   "outputs": [],
   "source": [
    "#3번째 함수에 조건을 만들었다.\n",
    "def solution(arr):\n",
    "    if len(arr) > 0:        # len(arr) 개수가 1개일 때도 포함이 되어버려 빈리스트를 반환해버린다.\n",
    "        min_v=min(arr)\n",
    "        arr.remove(min_v)\n",
    "        return arr\n",
    "    else:                    # else문으로 가질않는다.\n",
    "        return [-1]"
   ]
  },
  {
   "cell_type": "code",
   "execution_count": 25,
   "id": "c1c390ed",
   "metadata": {},
   "outputs": [
    {
     "data": {
      "text/plain": [
       "[]"
      ]
     },
     "execution_count": 25,
     "metadata": {},
     "output_type": "execute_result"
    }
   ],
   "source": [
    "solution([10])"
   ]
  },
  {
   "cell_type": "code",
   "execution_count": 26,
   "id": "4ac6cf81",
   "metadata": {},
   "outputs": [],
   "source": [
    "#3번째 (성공!)\n",
    "def solution(arr):\n",
    "    if len(arr) > 1:         # len(arr) 조건을 1로 바꾸었더니 \n",
    "        min_v=min(arr)\n",
    "        arr.remove(min_v)\n",
    "        return arr\n",
    "    else:                     # else 구문이 동작하였다!\n",
    "        return [-1]"
   ]
  },
  {
   "cell_type": "code",
   "execution_count": 27,
   "id": "c056d3fa",
   "metadata": {},
   "outputs": [
    {
     "data": {
      "text/plain": [
       "[-1]"
      ]
     },
     "execution_count": 27,
     "metadata": {},
     "output_type": "execute_result"
    }
   ],
   "source": [
    "solution([10])"
   ]
  },
  {
   "cell_type": "markdown",
   "id": "288a709a",
   "metadata": {},
   "source": [
    "<이 문제를 통해 배운 것>"
   ]
  },
  {
   "cell_type": "markdown",
   "id": "8538668a",
   "metadata": {},
   "source": [
    "# pop"
   ]
  },
  {
   "cell_type": "markdown",
   "id": "a9ebce4e",
   "metadata": {},
   "source": [
    "왜 3이 빠진거지?\n",
    "리스트 요소 끄집어내기(pop)\n",
    "pop()은 리스트의 맨 마지막 요소를 돌려주고 그 요소는 삭제한다."
   ]
  },
  {
   "cell_type": "code",
   "execution_count": 2,
   "id": "d35b7a4a",
   "metadata": {},
   "outputs": [
    {
     "data": {
      "text/plain": [
       "[1, 2]"
      ]
     },
     "execution_count": 2,
     "metadata": {},
     "output_type": "execute_result"
    }
   ],
   "source": [
    "#pop()  : 리스트의 맨 마지막 요소 제거\n",
    "a = [1,2,3]\n",
    "a.pop()\n",
    "a"
   ]
  },
  {
   "cell_type": "code",
   "execution_count": 3,
   "id": "81c09769",
   "metadata": {},
   "outputs": [
    {
     "data": {
      "text/plain": [
       "[1, 3]"
      ]
     },
     "execution_count": 3,
     "metadata": {},
     "output_type": "execute_result"
    }
   ],
   "source": [
    "#pop(i) : 리스트의 요소를 지정해준다.\n",
    "a = [1,2,3]\n",
    "a.pop(1) # a.pop( a[1] ) 와 같은 의미다\n",
    "a"
   ]
  },
  {
   "cell_type": "code",
   "execution_count": 6,
   "id": "5d9d25f2",
   "metadata": {},
   "outputs": [
    {
     "data": {
      "text/plain": [
       "[2, 3]"
      ]
     },
     "execution_count": 6,
     "metadata": {},
     "output_type": "execute_result"
    }
   ],
   "source": [
    "#pop(a.index(v)) v = 원하는 값\n",
    "a = [1,2,3]\n",
    "a.pop(a.index(1))\n",
    "a"
   ]
  },
  {
   "cell_type": "code",
   "execution_count": 31,
   "id": "459cb5d0",
   "metadata": {},
   "outputs": [
    {
     "data": {
      "text/plain": [
       "[1, 1, 2, 2, 2, 3, 3, 3]"
      ]
     },
     "execution_count": 31,
     "metadata": {},
     "output_type": "execute_result"
    }
   ],
   "source": [
    "#실험1 (중복된값 모두를 제거하는가?) \n",
    "#pop(a.index(v)) v = 원하는 값\n",
    "a = [1,1,1,2,2,2,3,3,3]\n",
    "a.pop(a.index(1))\n",
    "a\n",
    "# 결과 : 중복값 모두를 뽑지않는다"
   ]
  },
  {
   "cell_type": "code",
   "execution_count": 34,
   "id": "902c8158",
   "metadata": {},
   "outputs": [
    {
     "data": {
      "text/plain": [
       "[2, 2, 1, 2, 3, 3, 1, 3, 1]"
      ]
     },
     "execution_count": 34,
     "metadata": {},
     "output_type": "execute_result"
    }
   ],
   "source": [
    "#실험2 (중복된값을 제거하는데 랜덤인가?)\n",
    "#pop(a.index(v)) v = 원하는 값\n",
    "a = [1,2,2,1,2,3,3,1,3,1]\n",
    "a.pop(a.index(1))\n",
    "a\n",
    "#결과 : 맨 앞의수 즉, remove와같이 첫 번째로나오는 요소를 제거한다."
   ]
  },
  {
   "cell_type": "code",
   "execution_count": 37,
   "id": "878c5f33",
   "metadata": {},
   "outputs": [
    {
     "data": {
      "text/plain": [
       "[2, 2, 1, 2, 3, 3, 1, 3, 1]"
      ]
     },
     "execution_count": 37,
     "metadata": {},
     "output_type": "execute_result"
    }
   ],
   "source": []
  },
  {
   "cell_type": "markdown",
   "id": "8defe539",
   "metadata": {},
   "source": [
    "# remove"
   ]
  },
  {
   "cell_type": "markdown",
   "id": "b7014d35",
   "metadata": {},
   "source": [
    "remove(x)는 리스트에서 첫 번째로 나오는 x를 삭제하는 함수이다."
   ]
  },
  {
   "cell_type": "code",
   "execution_count": 39,
   "id": "aba509f9",
   "metadata": {},
   "outputs": [
    {
     "data": {
      "text/plain": [
       "[1, 2, 1, 2, 3]"
      ]
     },
     "execution_count": 39,
     "metadata": {},
     "output_type": "execute_result"
    }
   ],
   "source": [
    "a = [1, 2, 3, 1, 2, 3]\n",
    "a.remove(3)\n",
    "a"
   ]
  },
  {
   "cell_type": "code",
   "execution_count": null,
   "id": "b03c5ff2",
   "metadata": {},
   "outputs": [],
   "source": []
  }
 ],
 "metadata": {
  "kernelspec": {
   "display_name": "Python 3",
   "language": "python",
   "name": "python3"
  },
  "language_info": {
   "codemirror_mode": {
    "name": "ipython",
    "version": 3
   },
   "file_extension": ".py",
   "mimetype": "text/x-python",
   "name": "python",
   "nbconvert_exporter": "python",
   "pygments_lexer": "ipython3",
   "version": "3.8.8"
  }
 },
 "nbformat": 4,
 "nbformat_minor": 5
}
