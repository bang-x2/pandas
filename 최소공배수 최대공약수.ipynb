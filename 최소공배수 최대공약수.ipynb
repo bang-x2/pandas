{
 "cells": [
  {
   "cell_type": "markdown",
   "metadata": {},
   "source": [
    "# 첫 번째 (실패)"
   ]
  },
  {
   "cell_type": "code",
   "execution_count": 302,
   "metadata": {
    "scrolled": true
   },
   "outputs": [],
   "source": [
    "def solution(n, m):\n",
    "    if n > m:                    # n이 m보다 클때\n",
    "        n,m=m,n                  # n을 m, m을 n으로 바꿔줘\n",
    "    max_ = []\n",
    "    min_ = []\n",
    "    for i in range(1,m+1):       # 첫 번째 for문\n",
    "        if m%i == 0 and n%i==0: # m을 i로 나누었을때 나머지가 0, n을 i로 나누었을때 나머지가 0이일때 i의 수가(and)같을때 \n",
    "            max_.append(i)       # i를 max_에 담아줘\n",
    "            max_v=max(max_)      # 담긴 i중 가장 큰 수를 max_v에 담아줘\n",
    "    for i in range(1,m+1):      # 두 번째 for문\n",
    "        min_.append(n*i and m*i)# n배수와 m배수의 공통인 값을 min_ 에담아줘\n",
    "        min_v=min(min_)         # 담아준 값중 가장 작은 수를 min_v에 담아줘\n",
    "    return [max_v,min_v]       # max_v, min_v 값을 리스트에 담아주고 반환해줘!"
   ]
  },
  {
   "cell_type": "code",
   "execution_count": 303,
   "metadata": {},
   "outputs": [
    {
     "data": {
      "text/plain": [
       "[1, 5]"
      ]
     },
     "execution_count": 303,
     "metadata": {},
     "output_type": "execute_result"
    }
   ],
   "source": [
    "solution(2,5)"
   ]
  },
  {
   "cell_type": "markdown",
   "metadata": {},
   "source": [
    "# 두 번째 (성공)"
   ]
  },
  {
   "cell_type": "code",
   "execution_count": 304,
   "metadata": {},
   "outputs": [],
   "source": [
    "def solution(n, m):\n",
    "    if n > m:\n",
    "        n,m=m,n\n",
    "    max_ = []\n",
    "    min_ = []\n",
    "    for i in range(1,m+1):\n",
    "        if m%i == 0 and n%i==0:\n",
    "            max_.append(i)\n",
    "            max_v=max(max_)\n",
    "    for i in range(1,m*n+1):     # 범위를 두배로 늘려주었다.\n",
    "        if i%n == 0 and i%m ==0:# i를 n으로 나누어 주었을대 나머지가 0일때, m도 동일계산시 공통인 수를\n",
    "            min_.append(i)       # min_에 담아줘\n",
    "            min_v=min(min_)\n",
    "    return [max_v, min_v]"
   ]
  },
  {
   "cell_type": "code",
   "execution_count": 305,
   "metadata": {},
   "outputs": [
    {
     "data": {
      "text/plain": [
       "[1, 10]"
      ]
     },
     "execution_count": 305,
     "metadata": {},
     "output_type": "execute_result"
    }
   ],
   "source": [
    "solution(2,5)"
   ]
  },
  {
   "cell_type": "markdown",
   "metadata": {},
   "source": [
    "# 다른사람들의 풀이"
   ]
  },
  {
   "cell_type": "code",
   "execution_count": 367,
   "metadata": {},
   "outputs": [],
   "source": [
    "def gcdlcm(a, b):\n",
    "    c, d = max(a, b), min(a, b)\n",
    "    t =1         #초기 t의 조건이다\n",
    "    while t > 0:# while 문은 False 가 나올때까지 계속 반복이다.\n",
    "        t = c%d # 나머지가 0이 될 때까지 계속 반복하는 함수이다.\n",
    "        c,d=d,t # 첫번째 계산에서 나머지 1이므로 한번더 반복,두번째는 나머지가 0이어서 stop\n",
    "    answer = [c, int(a*b/c)] #최소공배수는 주어진 두 수 곱하기 나누기 최대약수이다.\n",
    "    return answer"
   ]
  },
  {
   "cell_type": "code",
   "execution_count": 350,
   "metadata": {},
   "outputs": [
    {
     "data": {
      "text/plain": [
       "10"
      ]
     },
     "execution_count": 350,
     "metadata": {},
     "output_type": "execute_result"
    }
   ],
   "source": [
    "gcdlcm(2,5)"
   ]
  },
  {
   "cell_type": "code",
   "execution_count": null,
   "metadata": {},
   "outputs": [],
   "source": []
  }
 ],
 "metadata": {
  "kernelspec": {
   "display_name": "python3_7_6",
   "language": "python",
   "name": "py3_7_6"
  },
  "language_info": {
   "codemirror_mode": {
    "name": "ipython",
    "version": 3
   },
   "file_extension": ".py",
   "mimetype": "text/x-python",
   "name": "python",
   "nbconvert_exporter": "python",
   "pygments_lexer": "ipython3",
   "version": "3.7.6"
  }
 },
 "nbformat": 4,
 "nbformat_minor": 4
}
