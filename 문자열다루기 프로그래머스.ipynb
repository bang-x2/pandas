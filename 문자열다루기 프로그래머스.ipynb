{
 "cells": [
  {
   "cell_type": "code",
   "execution_count": 17,
   "id": "91335171",
   "metadata": {},
   "outputs": [],
   "source": [
    "# 첫 번째,  문제를 잘 이해하지 못했다.\n",
    "def solution(s):\n",
    "    if s.isdigit():\n",
    "        return True\n",
    "    else:\n",
    "        return False"
   ]
  },
  {
   "cell_type": "code",
   "execution_count": 18,
   "id": "8a2829c1",
   "metadata": {},
   "outputs": [
    {
     "data": {
      "text/plain": [
       "True"
      ]
     },
     "execution_count": 18,
     "metadata": {},
     "output_type": "execute_result"
    }
   ],
   "source": [
    "solution('1234')"
   ]
  },
  {
   "cell_type": "code",
   "execution_count": 30,
   "id": "1275d356",
   "metadata": {},
   "outputs": [],
   "source": [
    "# 두 번째,  이상하게 오류가 난다 틀린 답은 아니지만\n",
    "def solution(s):\n",
    "    if (len(s) == 4 or len(s) == 6) and s.isdigit():\n",
    "        return True\n",
    "    else:\n",
    "        return False"
   ]
  },
  {
   "cell_type": "code",
   "execution_count": 31,
   "id": "d71a7bb4",
   "metadata": {},
   "outputs": [
    {
     "data": {
      "text/plain": [
       "False"
      ]
     },
     "execution_count": 31,
     "metadata": {},
     "output_type": "execute_result"
    }
   ],
   "source": [
    "solution('a234')"
   ]
  },
  {
   "cell_type": "code",
   "execution_count": 41,
   "id": "0798568a",
   "metadata": {},
   "outputs": [],
   "source": [
    "# 세 번째, 성공\n",
    "def solution(s):\n",
    "    if len(s) == 4 or len(s) == 6:\n",
    "            if s.isdigit():\n",
    "                return True\n",
    "    \n",
    "    return False"
   ]
  },
  {
   "cell_type": "code",
   "execution_count": 43,
   "id": "307b94ab",
   "metadata": {},
   "outputs": [
    {
     "data": {
      "text/plain": [
       "False"
      ]
     },
     "execution_count": 43,
     "metadata": {},
     "output_type": "execute_result"
    }
   ],
   "source": [
    "solution('a234')"
   ]
  },
  {
   "cell_type": "markdown",
   "id": "3200afd6",
   "metadata": {},
   "source": [
    "# 문자열 판별함수\n",
    "-숫자인지 확인하기  isdigit():숫자만 True\n",
    "\n",
    "-알파벳인지 확인하기 isalpha() \n",
    ":알파벳만 True\n",
    "\n",
    "-알파벳 또는 숫자인지 확인하기 isalnum() \n",
    ":숫자,알파벳 외 문자가 들어가면 False"
   ]
  },
  {
   "cell_type": "code",
   "execution_count": null,
   "id": "613c81aa",
   "metadata": {},
   "outputs": [],
   "source": []
  }
 ],
 "metadata": {
  "kernelspec": {
   "display_name": "Python 3",
   "language": "python",
   "name": "python3"
  },
  "language_info": {
   "codemirror_mode": {
    "name": "ipython",
    "version": 3
   },
   "file_extension": ".py",
   "mimetype": "text/x-python",
   "name": "python",
   "nbconvert_exporter": "python",
   "pygments_lexer": "ipython3",
   "version": "3.8.8"
  }
 },
 "nbformat": 4,
 "nbformat_minor": 5
}
