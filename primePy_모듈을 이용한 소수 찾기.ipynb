{
 "cells": [
  {
   "cell_type": "markdown",
   "id": "b07aa204",
   "metadata": {},
   "source": [
    "https://pypi.org/project/primePy/ #주소"
   ]
  },
  {
   "cell_type": "code",
   "execution_count": 2,
   "id": "a348a89b",
   "metadata": {},
   "outputs": [],
   "source": [
    "from primePy import primes"
   ]
  },
  {
   "cell_type": "code",
   "execution_count": 6,
   "id": "f19fd278",
   "metadata": {},
   "outputs": [
    {
     "name": "stdout",
     "output_type": "stream",
     "text": [
      "(0, '__builtins__')\n",
      "(1, '__cached__')\n",
      "(2, '__doc__')\n",
      "(3, '__file__')\n",
      "(4, '__loader__')\n",
      "(5, '__name__')\n",
      "(6, '__next_prime')\n",
      "(7, '__package__')\n",
      "(8, '__spec__')\n",
      "(9, 'about')\n",
      "(10, 'between')\n",
      "(11, 'check')\n",
      "(12, 'factor')\n",
      "(13, 'factors')\n",
      "(14, 'first')\n",
      "(15, 'phi')\n",
      "(16, 'sqrt')\n",
      "(17, 'upto')\n"
     ]
    }
   ],
   "source": [
    "for i in enumerate(dir(primes)):\n",
    "    print(i)"
   ]
  },
  {
   "cell_type": "code",
   "execution_count": 110,
   "id": "2945914c",
   "metadata": {},
   "outputs": [
    {
     "name": "stdout",
     "output_type": "stream",
     "text": [
      "10까지의 소수 리스트: [2, 3, 5, 7]\n",
      "100까지의 소수 리스트: [2, 3, 5, 7, 11, 13, 17, 19, 23, 29, 31, 37, 41, 43, 47, 53, 59, 61, 67, 71, 73, 79, 83, 89, 97]\n",
      "\n",
      "처음 5개 소수 리스트: [2, 3, 5, 7, 11]\n",
      "처음 10개 소수 리스트: [2, 3, 5, 7, 11, 13, 17, 19, 23, 29]\n",
      "\n",
      "15는 소수인가요? False\n",
      "277은 소수인가요? True\n",
      "\n",
      "10 부터 20까지 어떤소수가 있나요? [11, 13, 17, 19]\n",
      "\n",
      "이건 어디에 쓰는물건인고?factors : [3, 37]\n",
      "\n",
      "이건 어디에 쓰는물건인고?phi : 40\n",
      "\n",
      "4의 제곱근을 구하면 = 2.0\n"
     ]
    }
   ],
   "source": [
    "# upto 메서드 예제\n",
    "\n",
    "# primes.upto(10)\n",
    "print(\"10까지의 소수 리스트:\", primes.upto(10))\n",
    "\n",
    "# primes.upto(100)\n",
    "print(\"100까지의 소수 리스트:\", primes.upto(100))\n",
    "print() # 띄어쓰기를 위해서\n",
    " \n",
    "# first 메서드 예제\n",
    "#primes.first(5)\n",
    "print(\"처음 5개 소수 리스트:\", primes.first(5))\n",
    "\n",
    "# primes.first(10)\n",
    "print(\"처음 10개 소수 리스트:\", primes.first(10))\n",
    "print()\n",
    " \n",
    "# check 메서드 예제\n",
    "print(\"15는 소수인가요?\", primes.check(15))\n",
    "print(\"277은 소수인가요?\", primes.check(277))\n",
    "print()\n",
    "\n",
    "#between 메서드 예제\n",
    "print(\"10 부터 20까지 어떤소수가 있나요?\",primes.between(10,20))\n",
    "print()\n",
    "print(\"이건 어디에 쓰는물건인고?factors :\", primes.factors(111))\n",
    "print()\n",
    "print(\"이건 어디에 쓰는물건인고?phi : {}\".format(primes.phi(100)))\n",
    "print()\n",
    "# sqrt메서드 예제\n",
    "\n",
    "print(\"{}의 제곱근을 구하면 = {}\".format( 4 , primes.sqrt(4) ))"
   ]
  },
  {
   "cell_type": "code",
   "execution_count": 39,
   "id": "9ac46ad4",
   "metadata": {},
   "outputs": [
    {
     "name": "stdout",
     "output_type": "stream",
     "text": [
      "100부터 1000까지 소수: [101, 103, 107, 109, 113, 127, 131, 137, 139, 149, 151, 157, 163, 167, 173, 179, 181, 191, 193, 197, 199, 211, 223, 227, 229, 233, 239, 241, 251, 257, 263, 269, 271, 277, 281, 283, 293, 307, 311, 313, 317, 331, 337, 347, 349, 353, 359, 367, 373, 379, 383, 389, 397, 401, 409, 419, 421, 431, 433, 439, 443, 449, 457, 461, 463, 467, 479, 487, 491, 499, 503, 509, 521, 523, 541, 547, 557, 563, 569, 571, 577, 587, 593, 599, 601, 607, 613, 617, 619, 631, 641, 643, 647, 653, 659, 661, 673, 677, 683, 691, 701, 709, 719, 727, 733, 739, 743, 751, 757, 761, 769, 773, 787, 797, 809, 811, 821, 823, 827, 829, 839, 853, 857, 859, 863, 877, 881, 883, 887, 907, 911, 919, 929, 937, 941, 947, 953, 967, 971, 977, 983, 991, 997]\n",
      "\n",
      "----------------------------------------------------------------------------------------------------\n",
      "\n",
      "100부터 1000까지 소수의 개수: 143\n"
     ]
    }
   ],
   "source": [
    "print(\"100부터 1000까지 소수:\",primes.between(100,1000),end='')\n",
    "print()\n",
    "print()\n",
    "print(\"-\"*100)\n",
    "print()\n",
    "print(\"100부터 1000까지 소수의 개수:\",len(primes.between(100,1000)))"
   ]
  },
  {
   "cell_type": "code",
   "execution_count": null,
   "id": "bc3ef9e8",
   "metadata": {},
   "outputs": [],
   "source": []
  }
 ],
 "metadata": {
  "kernelspec": {
   "display_name": "Python 3",
   "language": "python",
   "name": "python3"
  },
  "language_info": {
   "codemirror_mode": {
    "name": "ipython",
    "version": 3
   },
   "file_extension": ".py",
   "mimetype": "text/x-python",
   "name": "python",
   "nbconvert_exporter": "python",
   "pygments_lexer": "ipython3",
   "version": "3.8.8"
  }
 },
 "nbformat": 4,
 "nbformat_minor": 5
}
