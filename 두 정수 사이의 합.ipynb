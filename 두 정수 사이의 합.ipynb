{
 "cells": [
  {
   "cell_type": "code",
   "execution_count": 29,
   "id": "b9ce337d",
   "metadata": {},
   "outputs": [],
   "source": [
    "def solution(a, b):\n",
    "    if a > b:\n",
    "        a,b=b,a\n",
    "    sum_v = 0\n",
    "    for i in range(a,b+1):\n",
    "        sum_v += i\n",
    "    return sum_v"
   ]
  },
  {
   "cell_type": "code",
   "execution_count": 30,
   "id": "5e478bd4",
   "metadata": {
    "scrolled": true
   },
   "outputs": [
    {
     "data": {
      "text/plain": [
       "12"
      ]
     },
     "execution_count": 30,
     "metadata": {},
     "output_type": "execute_result"
    }
   ],
   "source": [
    "solution(3,5 )"
   ]
  },
  {
   "cell_type": "code",
   "execution_count": 31,
   "id": "1fb17aef",
   "metadata": {},
   "outputs": [],
   "source": [
    "def adder(a, b):\n",
    "    \n",
    "    if a > b: a, b = b, a\n",
    "\n",
    "    return sum(range(a,b+1)) #진짜 간단하다...."
   ]
  },
  {
   "cell_type": "code",
   "execution_count": 32,
   "id": "3bbe2d39",
   "metadata": {},
   "outputs": [
    {
     "data": {
      "text/plain": [
       "12"
      ]
     },
     "execution_count": 32,
     "metadata": {},
     "output_type": "execute_result"
    }
   ],
   "source": [
    "solution(3,5 )"
   ]
  },
  {
   "cell_type": "code",
   "execution_count": 33,
   "id": "b4f322a9",
   "metadata": {},
   "outputs": [],
   "source": [
    "def adder(a, b):\n",
    "    return (abs(a-b)+1)*(a+b)//2"
   ]
  },
  {
   "cell_type": "code",
   "execution_count": 34,
   "id": "9a3a6af6",
   "metadata": {},
   "outputs": [
    {
     "data": {
      "text/plain": [
       "12"
      ]
     },
     "execution_count": 34,
     "metadata": {},
     "output_type": "execute_result"
    }
   ],
   "source": [
    "solution(3,5 )"
   ]
  },
  {
   "cell_type": "code",
   "execution_count": 35,
   "id": "fceb6844",
   "metadata": {},
   "outputs": [
    {
     "data": {
      "text/plain": [
       "7"
      ]
     },
     "execution_count": 35,
     "metadata": {},
     "output_type": "execute_result"
    }
   ],
   "source": [
    "abs(-7)"
   ]
  }
 ],
 "metadata": {
  "kernelspec": {
   "display_name": "Python 3",
   "language": "python",
   "name": "python3"
  },
  "language_info": {
   "codemirror_mode": {
    "name": "ipython",
    "version": 3
   },
   "file_extension": ".py",
   "mimetype": "text/x-python",
   "name": "python",
   "nbconvert_exporter": "python",
   "pygments_lexer": "ipython3",
   "version": "3.8.8"
  }
 },
 "nbformat": 4,
 "nbformat_minor": 5
}
