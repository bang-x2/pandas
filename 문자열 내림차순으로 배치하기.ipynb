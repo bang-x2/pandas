{
 "cells": [
  {
   "cell_type": "markdown",
   "id": "c930bb4a",
   "metadata": {},
   "source": [
    "# 문제 설명\n",
    "문자열 s에 나타나는 문자를 큰것부터 작은 순으로 정렬해 새로운 문자열을 리턴하는 함수, solution을 완성해주세요.\n",
    "s는 영문 대소문자로만 구성되어 있으며, 대문자는 소문자보다 작은 것으로 간주합니다."
   ]
  },
  {
   "cell_type": "code",
   "execution_count": 17,
   "id": "790c89c5",
   "metadata": {},
   "outputs": [],
   "source": [
    "def solution(s):\n",
    "\n",
    "    return(\"\".join(sorted(s)[::-1])) #먼저 문자열을 정렬후 sorted로인해 분리된 문자열을 join으로 없애준다."
   ]
  },
  {
   "cell_type": "code",
   "execution_count": 18,
   "id": "0126aa02",
   "metadata": {},
   "outputs": [
    {
     "data": {
      "text/plain": [
       "'spjhfda'"
      ]
     },
     "execution_count": 18,
     "metadata": {},
     "output_type": "execute_result"
    }
   ],
   "source": [
    "solution('asdjfhp')"
   ]
  },
  {
   "cell_type": "markdown",
   "id": "fc3f73fc",
   "metadata": {},
   "source": [
    "첫번째풀이"
   ]
  },
  {
   "cell_type": "code",
   "execution_count": 5,
   "id": "c6602bae",
   "metadata": {},
   "outputs": [],
   "source": [
    "def solution(s):\n",
    "    return s[::-1] # 뒤집기만 했다."
   ]
  },
  {
   "cell_type": "code",
   "execution_count": 6,
   "id": "271608f6",
   "metadata": {},
   "outputs": [
    {
     "data": {
      "text/plain": [
       "'phfjdsa'"
      ]
     },
     "execution_count": 6,
     "metadata": {},
     "output_type": "execute_result"
    }
   ],
   "source": [
    "solution('asdjfhp')"
   ]
  },
  {
   "cell_type": "code",
   "execution_count": null,
   "id": "3ff283ba",
   "metadata": {},
   "outputs": [],
   "source": []
  }
 ],
 "metadata": {
  "kernelspec": {
   "display_name": "Python 3",
   "language": "python",
   "name": "python3"
  },
  "language_info": {
   "codemirror_mode": {
    "name": "ipython",
    "version": 3
   },
   "file_extension": ".py",
   "mimetype": "text/x-python",
   "name": "python",
   "nbconvert_exporter": "python",
   "pygments_lexer": "ipython3",
   "version": "3.8.8"
  }
 },
 "nbformat": 4,
 "nbformat_minor": 5
}
