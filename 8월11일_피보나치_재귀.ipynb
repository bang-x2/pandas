{
 "cells": [
  {
   "cell_type": "code",
   "execution_count": 2,
   "id": "a962d782",
   "metadata": {},
   "outputs": [],
   "source": [
    "num = [52,273,32,103,90,10,275,52]"
   ]
  },
  {
   "cell_type": "code",
   "execution_count": 7,
   "id": "2a1079fb",
   "metadata": {},
   "outputs": [
    {
     "data": {
      "text/plain": [
       "0"
      ]
     },
     "execution_count": 7,
     "metadata": {},
     "output_type": "execute_result"
    }
   ],
   "source": [
    "num.index(52)"
   ]
  },
  {
   "cell_type": "code",
   "execution_count": 12,
   "id": "b11095c0",
   "metadata": {},
   "outputs": [],
   "source": [
    "앉힐수있는최소사람수=2\n",
    "앉힐수있는최대사람수=10\n",
    "전체사람의수=100\n",
    "memo = {}\n",
    "\n",
    "def 문제(남은사람수, 앉힌사람수):\n",
    "    key = str([남은사람수,앉힌사람수])\n",
    "    #종료 조건\n",
    "    if key in memo:\n",
    "        return memo[key]\n",
    "    if 남은사람수 < 0:\n",
    "        return 0\n",
    "    if 남은사람수 ==0:\n",
    "        return 1\n",
    "    #재귀 처리\n",
    "    count = 0\n",
    "    for i in range(앉힌사람수, 앉힐수있는최대사람수 +1):\n",
    "        count +=문제(남은사람수 -i,i)\n",
    "        #메모화 처리\n",
    "    memo[key] = count\n",
    "        #종료\n",
    "    return count"
   ]
  },
  {
   "cell_type": "code",
   "execution_count": 13,
   "id": "ab8ddc2b",
   "metadata": {},
   "outputs": [
    {
     "name": "stdout",
     "output_type": "stream",
     "text": [
      "437420\n"
     ]
    }
   ],
   "source": [
    "print(문제(전체사람의수, 앉힐수있는최소사람수))"
   ]
  },
  {
   "cell_type": "code",
   "execution_count": 14,
   "id": "2ada9882",
   "metadata": {},
   "outputs": [],
   "source": [
    "\n",
    "memo = {}\n",
    "\n",
    "def 문제(남은사람수, 앉힌사람수):\n",
    "    key = str([남은사람수,앉힌사람수])\n",
    "    #종료 조건\n",
    "    if key in memo:\n",
    "        return memo[key]\n",
    "    if 남은사람수 < 0:\n",
    "        return 0\n",
    "    if 남은사람수 ==0:\n",
    "        return 1\n",
    "    #재귀 처리\n",
    "    count = 0\n",
    "    for i in range(앉힌사람수, 앉힐수있는최대사람수 +1):\n",
    "        count +=문제(남은사람수 -i,i)\n",
    "        #메모화 처리\n",
    "    memo[key] = count\n",
    "        #종료\n",
    "    return count"
   ]
  },
  {
   "cell_type": "code",
   "execution_count": 15,
   "id": "2d6ad64c",
   "metadata": {},
   "outputs": [
    {
     "name": "stdout",
     "output_type": "stream",
     "text": [
      "437420\n"
     ]
    }
   ],
   "source": [
    "print(문제(전체사람의수, 앉힐수있는최소사람수))"
   ]
  },
  {
   "cell_type": "code",
   "execution_count": 35,
   "id": "206090c2",
   "metadata": {},
   "outputs": [],
   "source": [
    "#factoirial\n",
    "# n! = (n)*(n-1)*(n-2) or (n-2) * (n-1) * n\n",
    "def factorial_1(n):\n",
    "    print('1')\n",
    "    변수 = 1\n",
    "    for i in range(1,n+1):\n",
    "        print('2')\n",
    "        변수 *= i\n",
    "    return 변수"
   ]
  },
  {
   "cell_type": "code",
   "execution_count": 36,
   "id": "4e462a63",
   "metadata": {},
   "outputs": [
    {
     "name": "stdout",
     "output_type": "stream",
     "text": [
      "1\n",
      "2\n",
      "2\n",
      "2\n"
     ]
    },
    {
     "data": {
      "text/plain": [
       "6"
      ]
     },
     "execution_count": 36,
     "metadata": {},
     "output_type": "execute_result"
    }
   ],
   "source": [
    "factorial_1(3)"
   ]
  },
  {
   "cell_type": "code",
   "execution_count": 32,
   "id": "81181368",
   "metadata": {},
   "outputs": [],
   "source": [
    "#0! = 1\n",
    "#n! = n * (n-1)!\n",
    "\n",
    "def factorial_2(n):\n",
    "    print('1')\n",
    "    if n == 0:\n",
    "        print('2')\n",
    "        return 1      #0! = 1\n",
    "    else:\n",
    "        print('3')\n",
    "        return n * factorial_2(n-1)  #n! = n * (n-1)!"
   ]
  },
  {
   "cell_type": "code",
   "execution_count": 39,
   "id": "524870e8",
   "metadata": {},
   "outputs": [
    {
     "name": "stdout",
     "output_type": "stream",
     "text": [
      "1\n",
      "3\n",
      "1\n",
      "2\n"
     ]
    },
    {
     "data": {
      "text/plain": [
       "1"
      ]
     },
     "execution_count": 39,
     "metadata": {},
     "output_type": "execute_result"
    }
   ],
   "source": [
    "factorial_2(1)"
   ]
  },
  {
   "cell_type": "code",
   "execution_count": 41,
   "id": "3407c5d0",
   "metadata": {},
   "outputs": [],
   "source": [
    "#피보나치\n",
    "# f(1) = 1\n",
    "# f(2) = 1  \n",
    "# f(n) = f(n-1) + f(n-2)\n",
    "#f(3) = f(2) + f(1) = 2\n",
    "#f(4) = f(3) + f(2) = 3\n",
    "\n",
    "def f(n):\n",
    "    if n == 1 or n == 2:\n",
    "        return 1\n",
    "    else:\n",
    "        return f(n-1) + f(n-2)"
   ]
  },
  {
   "cell_type": "code",
   "execution_count": 42,
   "id": "bbce23de",
   "metadata": {
    "scrolled": true
   },
   "outputs": [
    {
     "name": "stdout",
     "output_type": "stream",
     "text": [
      "1\n",
      "1\n",
      "2\n",
      "3\n",
      "5\n"
     ]
    }
   ],
   "source": [
    "print(f(1))\n",
    "print(f(2))\n",
    "print(f(3))\n",
    "print(f(4))\n",
    "print(f(5)) "
   ]
  },
  {
   "cell_type": "code",
   "execution_count": 45,
   "id": "a5175685",
   "metadata": {},
   "outputs": [
    {
     "name": "stdout",
     "output_type": "stream",
     "text": [
      "102334155\n",
      "204668309\n"
     ]
    }
   ],
   "source": [
    "counter = 0\n",
    "def f(n):\n",
    "    global counter\n",
    "    counter += 1\n",
    "    if n == 1 or n ==2:\n",
    "        return 1\n",
    "    else:\n",
    "        return f(n-1) + f(n-2)\n",
    "print(f(40))\n",
    "print(counter)"
   ]
  },
  {
   "cell_type": "code",
   "execution_count": 54,
   "id": "4af2de21",
   "metadata": {
    "scrolled": true
   },
   "outputs": [
    {
     "name": "stdout",
     "output_type": "stream",
     "text": [
      "1317090516751949629522763087125316412066606964992507141887746936727530870405038425764503130123186407746570862185871925952766836352119119528156315582632460790383834605654880612657718465632568839245978248473058179422070735553124716385450886640552392273856770672239797164264356927661308349671941673643205733343592701716715788255170679575500279186053316365583259186927359351023387298371686222860827415371443553759953659514120882763808142593366402472251348360008915585215291504984371697523871199553935714056959634778700594751875\n"
     ]
    }
   ],
   "source": [
    "메모 = { 1: 1, 2: 1,3: 2}\n",
    "\n",
    "def f(n):\n",
    "    if n in 메모:\n",
    "        return 메모[n]\n",
    "    else:\n",
    "        output = f(n-1) + f(n-2)\n",
    "        메모[n] = output\n",
    "        return output\n",
    "print(f(2500))"
   ]
  },
  {
   "cell_type": "code",
   "execution_count": 1,
   "id": "6eb9c4bf",
   "metadata": {},
   "outputs": [
    {
     "ename": "SyntaxError",
     "evalue": "invalid syntax (<ipython-input-1-a047c859e84d>, line 1)",
     "output_type": "error",
     "traceback": [
      "\u001b[1;36m  File \u001b[1;32m\"<ipython-input-1-a047c859e84d>\"\u001b[1;36m, line \u001b[1;32m1\u001b[0m\n\u001b[1;33m    3!\u001b[0m\n\u001b[1;37m     ^\u001b[0m\n\u001b[1;31mSyntaxError\u001b[0m\u001b[1;31m:\u001b[0m invalid syntax\n"
     ]
    }
   ],
   "source": []
  },
  {
   "cell_type": "code",
   "execution_count": null,
   "id": "bf9f1036",
   "metadata": {},
   "outputs": [],
   "source": []
  }
 ],
 "metadata": {
  "kernelspec": {
   "display_name": "Python 3",
   "language": "python",
   "name": "python3"
  },
  "language_info": {
   "codemirror_mode": {
    "name": "ipython",
    "version": 3
   },
   "file_extension": ".py",
   "mimetype": "text/x-python",
   "name": "python",
   "nbconvert_exporter": "python",
   "pygments_lexer": "ipython3",
   "version": "3.8.8"
  }
 },
 "nbformat": 4,
 "nbformat_minor": 5
}
