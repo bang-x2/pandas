{
 "cells": [
  {
   "cell_type": "markdown",
   "id": "dbe82133",
   "metadata": {},
   "source": [
    "내가 푼 풀이"
   ]
  },
  {
   "cell_type": "code",
   "execution_count": 1,
   "id": "f551427c",
   "metadata": {},
   "outputs": [],
   "source": [
    "sum_v = []\n",
    "def solution(n):\n",
    "    for i in range(1,n+1):\n",
    "        if n % i ==0:\n",
    "            sum_v.append(i)\n",
    "    return sum(sum_v)"
   ]
  },
  {
   "cell_type": "markdown",
   "id": "4a38be37",
   "metadata": {},
   "source": [
    "다른사람이 푼 풀이"
   ]
  },
  {
   "cell_type": "code",
   "execution_count": 2,
   "id": "fa62713d",
   "metadata": {},
   "outputs": [],
   "source": [
    "def sumDivisor(num):\n",
    "    # num / 2 의 수들만 검사하면 성능 약 2배 향상\n",
    "    return num + sum([i for i in range(1, (num // 2) + 1) if num % i == 0])"
   ]
  },
  {
   "cell_type": "code",
   "execution_count": 3,
   "id": "43b0f78b",
   "metadata": {},
   "outputs": [],
   "source": [
    "def sumDivisor(num):\n",
    "    return sum(filter(lambda x: num % x == 0, range(1, num + 1)))"
   ]
  },
  {
   "cell_type": "code",
   "execution_count": null,
   "id": "dc1d9d5e",
   "metadata": {},
   "outputs": [],
   "source": []
  }
 ],
 "metadata": {
  "kernelspec": {
   "display_name": "Python 3",
   "language": "python",
   "name": "python3"
  },
  "language_info": {
   "codemirror_mode": {
    "name": "ipython",
    "version": 3
   },
   "file_extension": ".py",
   "mimetype": "text/x-python",
   "name": "python",
   "nbconvert_exporter": "python",
   "pygments_lexer": "ipython3",
   "version": "3.8.8"
  }
 },
 "nbformat": 4,
 "nbformat_minor": 5
}
