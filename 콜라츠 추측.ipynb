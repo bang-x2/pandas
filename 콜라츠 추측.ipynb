{
 "cells": [
  {
   "cell_type": "code",
   "execution_count": 1,
   "id": "5ca7783b",
   "metadata": {},
   "outputs": [],
   "source": [
    "# 1-1. 입력된 수가 짝수라면 2로 나눕니다. \n",
    "# 1-2. 입력된 수가 홀수라면 3을 곱하고 1을 더합니다.\n",
    "# 2. 결과로 나온 수에 같은 작업을 1이 될 때까지 반복합니다."
   ]
  },
  {
   "cell_type": "markdown",
   "id": "1fc60c63",
   "metadata": {},
   "source": [
    "과정 생각 : for문과, while문을 선택 하고 위 조건을 만들고 리턴하자"
   ]
  },
  {
   "cell_type": "markdown",
   "id": "4fe897ef",
   "metadata": {},
   "source": [
    "첫 번째"
   ]
  },
  {
   "cell_type": "code",
   "execution_count": 384,
   "id": "b4bb4fbf",
   "metadata": {},
   "outputs": [],
   "source": [
    "# while 문으로 풀이\n",
    "def solution(n):\n",
    "    while n > 1:      # 조건 주어진 수가 1이되면 안되니까 1보다 큰 수로 조건을 만들어 주었다.\n",
    "        m = []          #빈리스트를 만들어 주었다.\n",
    "        m.append(n)  #리스트에 수가 바뀔때마다 넣어줘\n",
    "        if n%2==0:    #짝수 조건일때\n",
    "            n = n/2    #n을 2로 나눠줘\n",
    "        else:\n",
    "            n = n*3+1#홀수일때 *3+1해줘\n",
    "    return m"
   ]
  },
  {
   "cell_type": "code",
   "execution_count": 385,
   "id": "4946223f",
   "metadata": {},
   "outputs": [
    {
     "data": {
      "text/plain": [
       "[2.0]"
      ]
     },
     "execution_count": 385,
     "metadata": {},
     "output_type": "execute_result"
    }
   ],
   "source": [
    "solution(11)"
   ]
  },
  {
   "cell_type": "markdown",
   "id": "14604e89",
   "metadata": {},
   "source": [
    "두 번째"
   ]
  },
  {
   "cell_type": "code",
   "execution_count": 386,
   "id": "a95188a7",
   "metadata": {},
   "outputs": [],
   "source": [
    "def solution(n):\n",
    "    \n",
    "    while n > 1:\n",
    "         answer = 0\n",
    "        #print(f'{n}')\n",
    "        if n%2==0:\n",
    "            n = n/2\n",
    "            answer += 1    #위 식을 계산 할때마다  answer에 1씩 더해줘\n",
    "        else:\n",
    "            n = n*3+1\n",
    "            answer += 1\n",
    "            \n",
    "    if answer > 500:\n",
    "        return -1\n",
    "    return answer"
   ]
  },
  {
   "cell_type": "code",
   "execution_count": 387,
   "id": "f7c12df3",
   "metadata": {},
   "outputs": [
    {
     "data": {
      "text/plain": [
       "-1"
      ]
     },
     "execution_count": 387,
     "metadata": {},
     "output_type": "execute_result"
    }
   ],
   "source": [
    "solution(626331)"
   ]
  },
  {
   "cell_type": "markdown",
   "id": "24ca5684",
   "metadata": {},
   "source": [
    "세 번째 (성공)"
   ]
  },
  {
   "cell_type": "code",
   "execution_count": null,
   "id": "c014d235",
   "metadata": {},
   "outputs": [],
   "source": [
    "def solution(n):\n",
    "    answer = 0\n",
    "    while n > 1:\n",
    "        #print(f'{n}')\n",
    "        if n%2==0:\n",
    "                n = n/2\n",
    "                answer += 1          \n",
    "        else:\n",
    "            n = n*3+1\n",
    "            answer += 1\n",
    "            \n",
    "    if answer > 500:\n",
    "        return -1\n",
    "    return answer"
   ]
  },
  {
   "cell_type": "code",
   "execution_count": null,
   "id": "34c7ad1f",
   "metadata": {},
   "outputs": [],
   "source": []
  }
 ],
 "metadata": {
  "kernelspec": {
   "display_name": "Python 3",
   "language": "python",
   "name": "python3"
  },
  "language_info": {
   "codemirror_mode": {
    "name": "ipython",
    "version": 3
   },
   "file_extension": ".py",
   "mimetype": "text/x-python",
   "name": "python",
   "nbconvert_exporter": "python",
   "pygments_lexer": "ipython3",
   "version": "3.8.8"
  }
 },
 "nbformat": 4,
 "nbformat_minor": 5
}
