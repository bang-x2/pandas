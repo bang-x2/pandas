{
 "cells": [
  {
   "cell_type": "code",
   "execution_count": 22,
   "id": "52bdfc3b",
   "metadata": {},
   "outputs": [
    {
     "name": "stdout",
     "output_type": "stream",
     "text": [
      "가로의 숫자를 입력하시오 :4\n",
      "세로의 숫자를 입력하시오 :4\n",
      "★★★★\n",
      "★★★★\n",
      "★★★★\n",
      "★★★★\n"
     ]
    }
   ],
   "source": [
    "# 아래와 같이 숫자를 두번 물어보게 하고 ★을 출력해서 사각형을 만드시오\n",
    "\n",
    "a = int(input(\"가로의 숫자를 입력하시오 :\"))\n",
    "b = int(input(\"세로의 숫자를 입력하시오 :\"))\n",
    "\n",
    "for i in range(b):\n",
    "    print(\"★\"*a)\n",
    "    "
   ]
  },
  {
   "cell_type": "code",
   "execution_count": 29,
   "id": "21d5b807",
   "metadata": {},
   "outputs": [],
   "source": [
    "# 삼각형의 가로와 높이를 받아서 넓이를 출력하는 함수를 작성하시오\n",
    "def 삼각형넓이(가로,세로):\n",
    "        print(f\"넓이는{(가로*세로)/2}m2입니다\")\n",
    "\n",
    "삼각형넓이(4,4)"
   ]
  },
  {
   "cell_type": "markdown",
   "id": "84e82729",
   "metadata": {},
   "source": [
    "#3. 아래와 같이 별이 찍히게 출력하시오\n",
    "숫자를 입력하세요 : \n",
    "  ★\n",
    " ★★★\n",
    "★★★★★  \n",
    " ★★★\n",
    "  ★"
   ]
  },
  {
   "cell_type": "code",
   "execution_count": 11,
   "id": "060b52af",
   "metadata": {},
   "outputs": [
    {
     "name": "stdout",
     "output_type": "stream",
     "text": [
      "1035\n"
     ]
    }
   ],
   "source": [
    "#1부터 100까지의 수의 합을 계산하던 중에 합이 1000 이상일 때, 최초로 1000을 넘게 하는 수가 무엇인지 코드를 만들고 답을 구하시오\n",
    "\n",
    "a = 0\n",
    "for i in range(1,101):\n",
    "    a += i\n",
    "    if a > 1000:\n",
    "        print(a)\n",
    "        break"
   ]
  },
  {
   "cell_type": "code",
   "execution_count": 15,
   "id": "e4b31257",
   "metadata": {},
   "outputs": [
    {
     "data": {
      "text/plain": [
       "'짝'"
      ]
     },
     "execution_count": 15,
     "metadata": {},
     "output_type": "execute_result"
    }
   ],
   "source": [
    "# 정수를 입력했을때 짝수인지 홀수인지 핀별하는 코드를 작성하시오\n",
    "\n",
    "def 홀짝(x):\n",
    "    if x % 2==0:\n",
    "        return(\"짝\")\n",
    "    return('홀')\n",
    "홀짝(2)"
   ]
  },
  {
   "cell_type": "code",
   "execution_count": 21,
   "id": "36b8cb03",
   "metadata": {},
   "outputs": [
    {
     "data": {
      "text/plain": [
       "['Aimy', 'Bob', 'Kelly', 'Mary', 'Michale', 'Sams', 'Tom']"
      ]
     },
     "execution_count": 21,
     "metadata": {},
     "output_type": "execute_result"
    }
   ],
   "source": [
    "# 리스트 메서드 중 하나를 이용하여 아래의 리스트를 ABCD순으로 정렬하시오.\n",
    "namelist = ['Mary', 'Sams', 'Aimy', 'Tom', 'Michale', 'Bob', 'Kelly']\n",
    "sorted(namelist)"
   ]
  },
  {
   "cell_type": "code",
   "execution_count": 29,
   "id": "f4127657",
   "metadata": {},
   "outputs": [
    {
     "data": {
      "text/plain": [
       "'여자'"
      ]
     },
     "execution_count": 29,
     "metadata": {},
     "output_type": "execute_result"
    }
   ],
   "source": [
    "# 주민등록번호를 입력하면 남자인지 여자인지 알려주는 프로그램을 작성하시오. (리스트 split 과 슬라이싱 활용)\n",
    "\n",
    "def ID(x):\n",
    "    a = str(x).split('-')[1][0]\n",
    "    if a == '1':\n",
    "        return '남자'\n",
    "    return '여자'\n",
    "ID('930000-223456')"
   ]
  },
  {
   "cell_type": "code",
   "execution_count": 30,
   "id": "29789baa",
   "metadata": {},
   "outputs": [
    {
     "name": "stdout",
     "output_type": "stream",
     "text": [
      "['exit', 'hi', 'playdata', 'intro']\n"
     ]
    }
   ],
   "source": [
    "# 확장자가 포함된 파일 이름이 담긴 리스트에서 확장자를 제거하고 파일 이름만 추가 리스트에 저장하시오.\n",
    "file = ['exit.py','hi.py','playdata.hwp','intro.jpg']\n",
    "lists = []\n",
    "for i in file:\n",
    "    lists.append(i.split('.')[0])\n",
    "print(lists)"
   ]
  },
  {
   "cell_type": "code",
   "execution_count": 31,
   "id": "731fc19e",
   "metadata": {},
   "outputs": [
    {
     "name": "stdout",
     "output_type": "stream",
     "text": [
      "charlie\n",
      "foxtrot\n"
     ]
    }
   ],
   "source": [
    "# 다음 리스트에서 알파벳의 갯수가 7개인 단어를 출력하시오\n",
    "a = ['alpha', 'bravo', 'charlie', 'delta', 'echo', 'foxtrot', 'golf', 'hotel', 'india']\n",
    "for i in a:\n",
    "    if len(i) == 7:\n",
    "        print(i)"
   ]
  },
  {
   "cell_type": "code",
   "execution_count": 33,
   "id": "f8926011",
   "metadata": {},
   "outputs": [
    {
     "data": {
      "text/plain": [
       "['태양', '수성', '금성', '화성', '목성', '토성', '천왕성', '해왕성']"
      ]
     },
     "execution_count": 33,
     "metadata": {},
     "output_type": "execute_result"
    }
   ],
   "source": [
    "# 리스트 메서드 중 하나를 이용하여 아래의 리스트에 '화성'이라는 요소를 삽입하시오.\n",
    "planet =['태양','수성','금성','목성','토성','천왕성','해왕성']\n",
    "planet.insert(3,'화성')\n",
    "planet\n",
    "#입력후planet =['태양','수성','금성','화성','목성','토성','천왕성','해왕성']  "
   ]
  },
  {
   "cell_type": "code",
   "execution_count": 41,
   "id": "e05322c5",
   "metadata": {},
   "outputs": [
    {
     "data": {
      "text/plain": [
       "'F'"
      ]
     },
     "execution_count": 41,
     "metadata": {},
     "output_type": "execute_result"
    }
   ],
   "source": [
    "#점수 구간에 해당하는 학점이 아래와 같이 정의되어 있다. 점수를 입력했을때 해당 학점이 출력하게 하시오.\n",
    "def score(x):\n",
    "    if x >= 81:\n",
    "        return 'A'\n",
    "    elif 80 >= x >= 61:\n",
    "        return 'B'\n",
    "    elif 60 >= x >= 41:\n",
    "        return 'C'\n",
    "    elif 40 >= x >= 21:\n",
    "        return 'D'\n",
    "    elif 20 >= x >= 0:\n",
    "        return 'F'\n",
    "score(20)"
   ]
  },
  {
   "cell_type": "code",
   "execution_count": 42,
   "id": "ed55c532",
   "metadata": {},
   "outputs": [
    {
     "data": {
      "text/plain": [
       "[1, 10]"
      ]
     },
     "execution_count": 42,
     "metadata": {},
     "output_type": "execute_result"
    }
   ],
   "source": [
    "# 최대공약수 및 최소공배수를 구하는 함수를 구현하시오.\n",
    "\n",
    "def solution(n, m):\n",
    "    if n > m:\n",
    "        n,m=m,n\n",
    "    max_ = []\n",
    "    min_ = []\n",
    "    for i in range(1,m+1):\n",
    "        if m%i == 0 and n%i==0:\n",
    "            max_.append(i)\n",
    "            max_v=max(max_)\n",
    "    for i in range(1,m*n+1):     # 범위를 두배로 늘려주었다.\n",
    "        if i%n == 0 and i%m ==0:# i를 n으로 나누어 주었을대 나머지가 0일때, m도 동일계산시 공통인 수를\n",
    "            min_.append(i)       # min_에 담아줘\n",
    "            min_v=min(min_)\n",
    "    return [max_v, min_v]\n",
    "solution(2,5)"
   ]
  },
  {
   "cell_type": "code",
   "execution_count": 53,
   "id": "c2560572",
   "metadata": {},
   "outputs": [
    {
     "ename": "TypeError",
     "evalue": "printing() missing 1 required positional argument: 'self'",
     "output_type": "error",
     "traceback": [
      "\u001b[1;31m---------------------------------------------------------------------------\u001b[0m",
      "\u001b[1;31mTypeError\u001b[0m                                 Traceback (most recent call last)",
      "\u001b[1;32m~\\AppData\\Local\\Temp/ipykernel_8848/4067793994.py\u001b[0m in \u001b[0;36m<module>\u001b[1;34m\u001b[0m\n\u001b[0;32m      1\u001b[0m \u001b[0ma\u001b[0m \u001b[1;33m=\u001b[0m \u001b[0mCard\u001b[0m\u001b[1;33m\u001b[0m\u001b[1;33m\u001b[0m\u001b[0m\n\u001b[1;32m----> 2\u001b[1;33m \u001b[0ma\u001b[0m\u001b[1;33m.\u001b[0m\u001b[0mprinting\u001b[0m\u001b[1;33m(\u001b[0m\u001b[1;33m)\u001b[0m\u001b[1;33m\u001b[0m\u001b[1;33m\u001b[0m\u001b[0m\n\u001b[0m",
      "\u001b[1;31mTypeError\u001b[0m: printing() missing 1 required positional argument: 'self'"
     ]
    }
   ],
   "source": [
    "a = Card\n",
    "a.printing()"
   ]
  },
  {
   "cell_type": "code",
   "execution_count": 56,
   "id": "9c11a925",
   "metadata": {
    "scrolled": true
   },
   "outputs": [
    {
     "name": "stdout",
     "output_type": "stream",
     "text": [
      "년도를 입력하시오 = 2021\n",
      "월을 입력하시오 = 10\n",
      "일을 입력하시오 = 31\n",
      "요청하신 2021년10월31일의 요일은 일요일 입니다.\n"
     ]
    }
   ],
   "source": [
    "# 년, 월, 일을 입력하면 그 날이 무슨 요일인지 출력하시오.\n",
    "import datetime\n",
    "days = ['월요일','화요일','수요일','목요일','금요일','토요일','일요일']\n",
    "x = int(input('년도를 입력하시오 = '))\n",
    "y = int(input('월을 입력하시오 = '))\n",
    "z = int(input('일을 입력하시오 = '))\n",
    "d = days[datetime.date(x,y,z).weekday()]\n",
    "print(f'요청하신 {x}년{y}월{z}일의 요일은 {d} 입니다.')\n"
   ]
  }
 ],
 "metadata": {
  "kernelspec": {
   "display_name": "Python 3 (ipykernel)",
   "language": "python",
   "name": "python3"
  },
  "language_info": {
   "codemirror_mode": {
    "name": "ipython",
    "version": 3
   },
   "file_extension": ".py",
   "mimetype": "text/x-python",
   "name": "python",
   "nbconvert_exporter": "python",
   "pygments_lexer": "ipython3",
   "version": "3.8.8"
  }
 },
 "nbformat": 4,
 "nbformat_minor": 5
}
