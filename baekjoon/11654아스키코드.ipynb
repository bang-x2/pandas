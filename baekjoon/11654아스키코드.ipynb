{
 "cells": [
  {
   "cell_type": "code",
   "execution_count": 1,
   "id": "2bceae31",
   "metadata": {},
   "outputs": [
    {
     "data": {
      "text/plain": [
       "'0123456789'"
      ]
     },
     "execution_count": 1,
     "metadata": {},
     "output_type": "execute_result"
    }
   ],
   "source": [
    "import string \n",
    "\n",
    "string.ascii_lowercase # 소문자 abcdefghijklmnopqrstuvwxyz\n",
    "string.ascii_uppercase # 대문자 ABCDEFGHIJKLMNOPQRSTUVWXYZ\n",
    "string.ascii_letters # 대소문자 모두 abcdefghijklmnopqrstuvwxyzABCDEFGHIJKLMNOPQRSTUVWXYZ\n",
    "string.digits # 숫자 0123456789"
   ]
  },
  {
   "cell_type": "code",
   "execution_count": 60,
   "id": "0a561dea",
   "metadata": {},
   "outputs": [
    {
     "name": "stdout",
     "output_type": "stream",
     "text": [
      "A\n"
     ]
    },
    {
     "data": {
      "text/plain": [
       "65"
      ]
     },
     "execution_count": 60,
     "metadata": {},
     "output_type": "execute_result"
    }
   ],
   "source": [
    "x=input()\n",
    "def ASCII(x):\n",
    "    x = str(x)\n",
    "    alp = string.ascii_lowercase\n",
    "    ALP = string.ascii_uppercase\n",
    "    num = string.digits\n",
    "    a = list(range(65,91))\n",
    "    b = list(range(97,123))\n",
    "    c = list(range(48,58))\n",
    "    d = {}\n",
    "    for i,v in enumerate(alp):\n",
    "        d[v] = b[i]\n",
    "    for i,v in enumerate(ALP):\n",
    "        d[v] = a[i]        \n",
    "    for i,v in enumerate(num):\n",
    "        d[v] = c[i]        \n",
    "    return d[x]\n",
    "ASCII(x)"
   ]
  },
  {
   "cell_type": "code",
   "execution_count": 62,
   "id": "bb890ae0",
   "metadata": {},
   "outputs": [
    {
     "data": {
      "text/plain": [
       "65"
      ]
     },
     "execution_count": 62,
     "metadata": {},
     "output_type": "execute_result"
    }
   ],
   "source": [
    "# 아스키코드 함수\n",
    "ord('A')"
   ]
  },
  {
   "cell_type": "code",
   "execution_count": null,
   "id": "c3e8967a",
   "metadata": {},
   "outputs": [],
   "source": []
  }
 ],
 "metadata": {
  "kernelspec": {
   "display_name": "Python 3 (ipykernel)",
   "language": "python",
   "name": "python3"
  },
  "language_info": {
   "codemirror_mode": {
    "name": "ipython",
    "version": 3
   },
   "file_extension": ".py",
   "mimetype": "text/x-python",
   "name": "python",
   "nbconvert_exporter": "python",
   "pygments_lexer": "ipython3",
   "version": "3.8.8"
  }
 },
 "nbformat": 4,
 "nbformat_minor": 5
}
