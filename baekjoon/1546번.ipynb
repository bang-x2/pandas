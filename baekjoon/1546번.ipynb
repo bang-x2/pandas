{
 "cells": [
  {
   "cell_type": "code",
   "execution_count": 8,
   "id": "4a79b6cf",
   "metadata": {},
   "outputs": [
    {
     "data": {
      "text/plain": [
       "100.0"
      ]
     },
     "execution_count": 8,
     "metadata": {},
     "output_type": "execute_result"
    }
   ],
   "source": [
    "80/80*100"
   ]
  },
  {
   "cell_type": "code",
   "execution_count": null,
   "id": "6bfdc709",
   "metadata": {},
   "outputs": [],
   "source": [
    "75.0"
   ]
  },
  {
   "cell_type": "code",
   "execution_count": 12,
   "id": "adeb4d8e",
   "metadata": {},
   "outputs": [
    {
     "data": {
      "text/plain": [
       "50.0"
      ]
     },
     "execution_count": 12,
     "metadata": {},
     "output_type": "execute_result"
    }
   ],
   "source": [
    "40/80*100"
   ]
  },
  {
   "cell_type": "code",
   "execution_count": 13,
   "id": "cbd98a94",
   "metadata": {},
   "outputs": [
    {
     "data": {
      "text/plain": [
       "100.0"
      ]
     },
     "execution_count": 13,
     "metadata": {},
     "output_type": "execute_result"
    }
   ],
   "source": [
    "80/80*100"
   ]
  },
  {
   "cell_type": "code",
   "execution_count": 14,
   "id": "b3d7c795",
   "metadata": {},
   "outputs": [
    {
     "data": {
      "text/plain": [
       "75.0"
      ]
     },
     "execution_count": 14,
     "metadata": {},
     "output_type": "execute_result"
    }
   ],
   "source": [
    "60/80*100"
   ]
  },
  {
   "cell_type": "code",
   "execution_count": 16,
   "id": "2ec28f83",
   "metadata": {},
   "outputs": [
    {
     "data": {
      "text/plain": [
       "75.0"
      ]
     },
     "execution_count": 16,
     "metadata": {},
     "output_type": "execute_result"
    }
   ],
   "source": [
    "(50.0 + 100 + 75.0)/3"
   ]
  },
  {
   "cell_type": "code",
   "execution_count": null,
   "id": "735121d1",
   "metadata": {},
   "outputs": [],
   "source": [
    "a = int(sys.stdin.readline())\n",
    "b,c = map(int, sys.stdin.readline().split())"
   ]
  },
  {
   "cell_type": "code",
   "execution_count": 28,
   "id": "2ae9a2bf",
   "metadata": {},
   "outputs": [
    {
     "name": "stdout",
     "output_type": "stream",
     "text": [
      "2\n",
      "3 10\n",
      "65.0\n"
     ]
    }
   ],
   "source": [
    "a = int(input())\n",
    "b = list(map(int, input().split()))\n",
    "max_s = max(b)\n",
    "scores = []\n",
    "for i in b:\n",
    "    scores.append((i/max_s)*100)\n",
    "print(sum(scores)/a)"
   ]
  },
  {
   "cell_type": "code",
   "execution_count": null,
   "id": "4560ea5f",
   "metadata": {},
   "outputs": [],
   "source": []
  }
 ],
 "metadata": {
  "kernelspec": {
   "display_name": "Python 3 (ipykernel)",
   "language": "python",
   "name": "python3"
  },
  "language_info": {
   "codemirror_mode": {
    "name": "ipython",
    "version": 3
   },
   "file_extension": ".py",
   "mimetype": "text/x-python",
   "name": "python",
   "nbconvert_exporter": "python",
   "pygments_lexer": "ipython3",
   "version": "3.8.8"
  }
 },
 "nbformat": 4,
 "nbformat_minor": 5
}
