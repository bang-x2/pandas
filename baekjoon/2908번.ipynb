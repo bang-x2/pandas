{
 "cells": [
  {
   "cell_type": "code",
   "execution_count": null,
   "id": "ca03a90f",
   "metadata": {},
   "outputs": [],
   "source": [
    "'734' '893'"
   ]
  },
  {
   "cell_type": "code",
   "execution_count": 10,
   "id": "308edf20",
   "metadata": {},
   "outputs": [
    {
     "name": "stdout",
     "output_type": "stream",
     "text": [
      "839 237\n",
      "938\n"
     ]
    }
   ],
   "source": [
    "n, n1 = input().split()\n",
    "m = int(n[::-1])\n",
    "m1 = int(n1[::-1])    \n",
    "if m > m1:\n",
    "    print(m)\n",
    "else:\n",
    "    print(m1)"
   ]
  },
  {
   "cell_type": "code",
   "execution_count": null,
   "id": "5dfc5948",
   "metadata": {},
   "outputs": [],
   "source": []
  }
 ],
 "metadata": {
  "kernelspec": {
   "display_name": "Python 3 (ipykernel)",
   "language": "python",
   "name": "python3"
  },
  "language_info": {
   "codemirror_mode": {
    "name": "ipython",
    "version": 3
   },
   "file_extension": ".py",
   "mimetype": "text/x-python",
   "name": "python",
   "nbconvert_exporter": "python",
   "pygments_lexer": "ipython3",
   "version": "3.8.8"
  }
 },
 "nbformat": 4,
 "nbformat_minor": 5
}
