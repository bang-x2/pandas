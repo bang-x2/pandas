{
 "cells": [
  {
   "cell_type": "markdown",
   "id": "f5cf542f",
   "metadata": {},
   "source": [
    "N을 입력받은 뒤, 구구단 N단을 출력하는 프로그램을 작성하시오.  \n",
    "출력 형식에 맞춰서 출력하면 된다.  "
   ]
  },
  {
   "cell_type": "code",
   "execution_count": null,
   "id": "2eda42d2",
   "metadata": {},
   "outputs": [],
   "source": [
    "a = int(input())\n",
    "for i in range(9):\n",
    "    print(f'{a} * {i+1} = {a*(i+1)}')"
   ]
  },
  {
   "cell_type": "markdown",
   "id": "e6356ce2",
   "metadata": {},
   "source": [
    "두 정수 A와 B를 입력받은 다음, A+B를 출력하는 프로그램을 작성하시오.  \n",
    "첫째 줄에 테스트 케이스의 개수 T가 주어진다.  \n",
    "\n",
    "각 테스트 케이스는 한 줄로 이루어져 있으며, 각 줄에 A와 B가 주어진다. (0 < A, B < 10)  "
   ]
  },
  {
   "cell_type": "code",
   "execution_count": null,
   "id": "91411f28",
   "metadata": {
    "scrolled": true
   },
   "outputs": [],
   "source": [
    "a = int(input())\n",
    "for _ in range(a):\n",
    "    b,c = map(int,input().split())\n",
    "    print(b+c)"
   ]
  },
  {
   "cell_type": "markdown",
   "id": "7a5086b8",
   "metadata": {},
   "source": [
    "n이 주어졌을 때, 1부터 n까지 합을 구하는 프로그램을 작성하시오."
   ]
  },
  {
   "cell_type": "code",
   "execution_count": null,
   "id": "9925ce2a",
   "metadata": {},
   "outputs": [],
   "source": [
    "n=int(input())\n",
    "a=0\n",
    "for i in range(n+1):\n",
    "    a+=i\n",
    "print(a)"
   ]
  },
  {
   "cell_type": "markdown",
   "id": "7e3c5792",
   "metadata": {},
   "source": [
    "각 테스트케이스마다 A+B를 한 줄에 하나씩 순서대로 출력한다.  \n",
    "input 대신 sys.stdin.readline() 를 사용하라  "
   ]
  },
  {
   "cell_type": "code",
   "execution_count": null,
   "id": "528edbdf",
   "metadata": {},
   "outputs": [],
   "source": [
    "import sys\n",
    "\n",
    "t = int(sys.stdin.readline())\n",
    "\n",
    "for i in range(t):\n",
    "    a,b = map(int, sys.stdin.readline().split())\n",
    "    print(a+b)"
   ]
  },
  {
   "cell_type": "markdown",
   "id": "f2db043a",
   "metadata": {},
   "source": [
    "첫째 줄부터 N번째 줄 까지 차례대로 출력한다.<br>\n",
    "예제 출력 <br> \n",
    "1<br>\n",
    "2<br>\n",
    "3<br>\n",
    "4<br>\n",
    "5<br>"
   ]
  },
  {
   "cell_type": "code",
   "execution_count": null,
   "id": "40c333f5",
   "metadata": {},
   "outputs": [],
   "source": [
    "import sys\n",
    "\n",
    "t = int(sys.stdin.readline())\n",
    "\n",
    "for i in range(t):\n",
    "    print(i+1)"
   ]
  },
  {
   "cell_type": "markdown",
   "id": "ebb9601c",
   "metadata": {},
   "source": [
    "첫째 줄부터 N번째 줄 까지 차례대로 출력한다.<br>\n",
    "예제 출력 <br> \n",
    "5<br>\n",
    "4<br>\n",
    "3<br>\n",
    "2<br>\n",
    "1<br>"
   ]
  },
  {
   "cell_type": "code",
   "execution_count": null,
   "id": "0b5b4803",
   "metadata": {},
   "outputs": [],
   "source": [
    "import sys\n",
    "\n",
    "t = int(sys.stdin.readline())\n",
    "\n",
    "for i in range(t,0,-1):\n",
    "    print(i)"
   ]
  },
  {
   "cell_type": "markdown",
   "id": "149e8fec",
   "metadata": {},
   "source": [
    "각 테스트 케이스마다 \"Case #x: \"를 출력한 다음, A+B를 출력한다.  \n",
    "테스트 케이스 번호는 1부터 시작한다.  "
   ]
  },
  {
   "cell_type": "code",
   "execution_count": null,
   "id": "050700b2",
   "metadata": {},
   "outputs": [],
   "source": [
    "import sys\n",
    "\n",
    "t = int(sys.stdin.readline())\n",
    "\n",
    "for i in range(t):\n",
    "    a,b = map(int, sys.stdin.readline().split())\n",
    "    print(f'Case #{i+1}: {a+b}')"
   ]
  },
  {
   "cell_type": "markdown",
   "id": "6062b9ee",
   "metadata": {},
   "source": [
    "각 테스트 케이스마다 \"Case #x: A + B = C\" 형식으로 출력한다.  \n",
    "x는 테스트 케이스 번호이고 1부터 시작하며, C는 A+B이다.  "
   ]
  },
  {
   "cell_type": "code",
   "execution_count": null,
   "id": "379b2578",
   "metadata": {},
   "outputs": [],
   "source": [
    "import sys\n",
    "\n",
    "t = int(sys.stdin.readline())\n",
    "\n",
    "for i in range(t):\n",
    "    a,b = map(int, sys.stdin.readline().split())\n",
    "    print(f'Case #{i+1}: {a} + {b} = {a+b}')"
   ]
  },
  {
   "cell_type": "code",
   "execution_count": null,
   "id": "e2eb6eb2",
   "metadata": {},
   "outputs": [],
   "source": [
    "첫째 줄부터 N번째 줄까지 차례대로 별을 출력한다.  \n",
    "*<br>  \n",
    "**<br>\n",
    "***<br>\n",
    "****<br>\n",
    "*****<br>"
   ]
  },
  {
   "cell_type": "code",
   "execution_count": 36,
   "id": "c89a7d1a",
   "metadata": {},
   "outputs": [
    {
     "name": "stdout",
     "output_type": "stream",
     "text": [
      "*\n",
      "**\n",
      "***\n",
      "****\n",
      "*****\n"
     ]
    }
   ],
   "source": [
    "import sys\n",
    "\n",
    "t = int(sys.stdin.readline())\n",
    "for i in range(t):\n",
    "    print(\"*\"*(i+1))"
   ]
  },
  {
   "cell_type": "code",
   "execution_count": null,
   "id": "224859da",
   "metadata": {},
   "outputs": [],
   "source": [
    "첫째 줄부터 N번째 줄까지 차례대로 별을 출력한다.    \n",
    "    *<br>  \n",
    "   **<br>\n",
    "  ***<br>\n",
    " ****<br>\n",
    "*****<br>"
   ]
  },
  {
   "cell_type": "code",
   "execution_count": null,
   "id": "0eff8ee8",
   "metadata": {},
   "outputs": [],
   "source": [
    "import sys\n",
    "\n",
    "t = int(sys.stdin.readline())\n",
    "\n",
    "for i,v in enumerate(range(t,0,-1)):\n",
    "    print(' '*(v-1)+\"*\"*(i+1))"
   ]
  },
  {
   "cell_type": "markdown",
   "id": "53ffdbc6",
   "metadata": {},
   "source": [
    "X보다 작은 수를 입력받은 순서대로 공백으로 구분해 출력한다. X보다 작은 수는 적어도 하나 존재한다.   \n",
    "입력  \n",
    "10 5  \n",
    "1 10 4 9 2 3 8 5 7 6  \n",
    "출력  \n",
    "1 4 2 3    "
   ]
  },
  {
   "cell_type": "code",
   "execution_count": 16,
   "id": "13c8b5c3",
   "metadata": {},
   "outputs": [
    {
     "name": "stdout",
     "output_type": "stream",
     "text": [
      "10 5\n",
      "1 10 4 9 2 3 8 5 7 6\n",
      "1 4 2 3 "
     ]
    }
   ],
   "source": [
    "a,b = map(int, input().split())\n",
    "c = list(map(int, input().split()))\n",
    "\n",
    "for i in c:\n",
    "    if i < b:\n",
    "        print(i, end=\" \")"
   ]
  },
  {
   "cell_type": "markdown",
   "id": "18e1c6cf",
   "metadata": {},
   "source": [
    "마지막은 sys로하면 안되더라... 왜그런걸까..?"
   ]
  }
 ],
 "metadata": {
  "kernelspec": {
   "display_name": "Python 3 (ipykernel)",
   "language": "python",
   "name": "python3"
  },
  "language_info": {
   "codemirror_mode": {
    "name": "ipython",
    "version": 3
   },
   "file_extension": ".py",
   "mimetype": "text/x-python",
   "name": "python",
   "nbconvert_exporter": "python",
   "pygments_lexer": "ipython3",
   "version": "3.8.8"
  }
 },
 "nbformat": 4,
 "nbformat_minor": 5
}
