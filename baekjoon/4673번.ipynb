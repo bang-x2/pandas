{
 "cells": [
  {
   "cell_type": "code",
   "execution_count": 99,
   "id": "3a3be989",
   "metadata": {},
   "outputs": [],
   "source": [
    "# 자리수별 합 + 본 숫자 구하는 식\n",
    "a = list(map(str ,range(1,10001))) # 1 부터 10000까지 숫자\n",
    "c = []                             # \n",
    "for i in a:\n",
    "    b = 0\n",
    "    for j in i:\n",
    "        b += int(j)\n",
    "    c.append(b+int(i))            # (각자리수의 합 + 본 숫자) 를 리스트에 담아준다.\n",
    "c.sort()                          #s ort를 해주면 비교하기가 빨라진다.\n",
    "\n",
    "# 1~10000까지 수 중selfnum을 판별\n",
    "for y in a:\n",
    "    if int(y) not in c:           #1~10000가 c 에 없다면 selfnum이다.\n",
    "        print(y)"
   ]
  },
  {
   "cell_type": "code",
   "execution_count": null,
   "id": "d208852e",
   "metadata": {},
   "outputs": [],
   "source": []
  }
 ],
 "metadata": {
  "kernelspec": {
   "display_name": "Python 3 (ipykernel)",
   "language": "python",
   "name": "python3"
  },
  "language_info": {
   "codemirror_mode": {
    "name": "ipython",
    "version": 3
   },
   "file_extension": ".py",
   "mimetype": "text/x-python",
   "name": "python",
   "nbconvert_exporter": "python",
   "pygments_lexer": "ipython3",
   "version": "3.8.8"
  }
 },
 "nbformat": 4,
 "nbformat_minor": 5
}
