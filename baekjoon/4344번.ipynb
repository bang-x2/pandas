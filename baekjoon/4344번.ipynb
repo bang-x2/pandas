{
 "cells": [
  {
   "cell_type": "code",
   "execution_count": null,
   "id": "0ccac02e",
   "metadata": {},
   "outputs": [],
   "source": [
    "n = int(input())\n",
    "for _ in range(n):\n",
    "    a = list(map(int,input().split()))\n",
    "    means=sum(a[1:])/a[0]\n",
    "    cnt = 0\n",
    "    for i in a[1:]:\n",
    "        if i > means :\n",
    "            cnt += 1\n",
    "    비율 = (cnt/len(a[1:]))*100\n",
    "    print(f'{비율:0.3f}%')"
   ]
  },
  {
   "cell_type": "code",
   "execution_count": null,
   "id": "ecc76d32",
   "metadata": {},
   "outputs": [],
   "source": []
  }
 ],
 "metadata": {
  "kernelspec": {
   "display_name": "Python 3 (ipykernel)",
   "language": "python",
   "name": "python3"
  },
  "language_info": {
   "codemirror_mode": {
    "name": "ipython",
    "version": 3
   },
   "file_extension": ".py",
   "mimetype": "text/x-python",
   "name": "python",
   "nbconvert_exporter": "python",
   "pygments_lexer": "ipython3",
   "version": "3.8.8"
  }
 },
 "nbformat": 4,
 "nbformat_minor": 5
}
