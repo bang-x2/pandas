{
 "cells": [
  {
   "cell_type": "code",
   "execution_count": 2,
   "id": "153f7682",
   "metadata": {},
   "outputs": [
    {
     "data": {
      "text/plain": [
       "'0123456789'"
      ]
     },
     "execution_count": 2,
     "metadata": {},
     "output_type": "execute_result"
    }
   ],
   "source": [
    "import string \n",
    "\n",
    "string.ascii_lowercase # 소문자 abcdefghijklmnopqrstuvwxyz\n",
    "string.ascii_uppercase # 대문자 ABCDEFGHIJKLMNOPQRSTUVWXYZ\n",
    "string.ascii_letters # 대소문자 모두 abcdefghijklmnopqrstuvwxyzABCDEFGHIJKLMNOPQRSTUVWXYZ\n",
    "string.digits # 숫자 0123456789"
   ]
  },
  {
   "cell_type": "code",
   "execution_count": 4,
   "id": "a4efa01b",
   "metadata": {},
   "outputs": [
    {
     "name": "stdout",
     "output_type": "stream",
     "text": [
      "baekjoon\n",
      "1 0 -1 -1 2 -1 -1 -1 -1 4 3 -1 -1 7 6 -1 -1 -1 -1 -1 -1 -1 -1 -1 -1 -1\n"
     ]
    }
   ],
   "source": [
    "s = input()\n",
    "a = str.maketrans(s, '01234567')\n",
    "y = string.ascii_lowercase\n",
    "c = y.translate(a)\n",
    "list_ = []\n",
    "for i in c:\n",
    "    if i.isalpha():\n",
    "        list_.append('-1')\n",
    "    else:\n",
    "        list_.append(i)\n",
    "        \n",
    "print(' '.join(list_))"
   ]
  },
  {
   "cell_type": "code",
   "execution_count": null,
   "id": "5201dbce",
   "metadata": {},
   "outputs": [],
   "source": [
    "1 0 -1 -1 2 -1 -1 -1 -1 4 3 -1 -1 7 6 -1 -1 -1 -1 -1 -1 -1 -1 -1 -1 -1\n",
    "1 0 -1 -1 2 -1 -1 -1 -1 4 3 -1 -1 7 5 -1 -1 -1 -1 -1 -1 -1 -1 -1 -1 -1"
   ]
  },
  {
   "cell_type": "code",
   "execution_count": null,
   "id": "18e3d7b7",
   "metadata": {},
   "outputs": [],
   "source": [
    "word = input()\n",
    "alphabet = list(range(97,123))  # 아스키코드 숫자 범위\n",
    "\n",
    "for x in alphabet :\n",
    "    print(word.find(chr(x)),end='')"
   ]
  },
  {
   "cell_type": "markdown",
   "id": "8b5a758d",
   "metadata": {},
   "source": [
    "find 함수는 어떤 찾는 문자가 문자열 안에서 첫 번째에 위치한 순서를 숫자로 출력한다.<br> \n",
    "만일 찾는 문자가 문자열 안에 없는 경우에는 -1을 출력하는 함수이다.<br>\n",
    "이 문제에서 요구하는 바를 그대로 출력할 수 있는 함수여서 find 함수를 사용한<br>\n",
    "코드를 작성했다.<br>"
   ]
  },
  {
   "cell_type": "code",
   "execution_count": 15,
   "id": "16a53877",
   "metadata": {},
   "outputs": [
    {
     "name": "stdout",
     "output_type": "stream",
     "text": [
      "65\n",
      "\u0004\n"
     ]
    }
   ],
   "source": [
    "# 아스키코드 함수\n",
    "print(ord('A'))\n",
    "\n",
    "print(chr(4))"
   ]
  },
  {
   "cell_type": "code",
   "execution_count": 8,
   "id": "eee51c4a",
   "metadata": {},
   "outputs": [
    {
     "data": {
      "text/plain": [
       "-1"
      ]
     },
     "execution_count": 8,
     "metadata": {},
     "output_type": "execute_result"
    }
   ],
   "source": [
    "'baekjoon'.find('c')"
   ]
  },
  {
   "cell_type": "code",
   "execution_count": null,
   "id": "51998c06",
   "metadata": {},
   "outputs": [],
   "source": []
  }
 ],
 "metadata": {
  "kernelspec": {
   "display_name": "Python 3 (ipykernel)",
   "language": "python",
   "name": "python3"
  },
  "language_info": {
   "codemirror_mode": {
    "name": "ipython",
    "version": 3
   },
   "file_extension": ".py",
   "mimetype": "text/x-python",
   "name": "python",
   "nbconvert_exporter": "python",
   "pygments_lexer": "ipython3",
   "version": "3.8.8"
  }
 },
 "nbformat": 4,
 "nbformat_minor": 5
}
