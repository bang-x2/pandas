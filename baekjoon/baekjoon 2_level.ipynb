{
 "cells": [
  {
   "cell_type": "markdown",
   "id": "f4ec55e1",
   "metadata": {},
   "source": [
    "두 정수 A와 B가 주어졌을 때, A와 B를 비교하는 프로그램을 작성하시오."
   ]
  },
  {
   "cell_type": "markdown",
   "id": "21dba57b",
   "metadata": {},
   "source": [
    "첫째 줄에 다음 세 가지 중 하나를 출력한다.  \n",
    "\n",
    "A가 B보다 큰 경우에는 '>'를 출력한다.  \n",
    "A가 B보다 작은 경우에는 '<'를 출력한다.  \n",
    "A와 B가 같은 경우에는 '=='를 출력한다.  "
   ]
  },
  {
   "cell_type": "code",
   "execution_count": 4,
   "id": "7c5c2c38",
   "metadata": {
    "scrolled": true
   },
   "outputs": [
    {
     "name": "stdout",
     "output_type": "stream",
     "text": [
      "5 5\n",
      "==\n"
     ]
    }
   ],
   "source": [
    "a,b = map(int, input().split())\n",
    "if a > b:\n",
    "    print(\">\")\n",
    "elif a < b:\n",
    "    print(\"<\")\n",
    "elif a == b:\n",
    "    print(\"==\")"
   ]
  },
  {
   "cell_type": "markdown",
   "id": "0487b366",
   "metadata": {},
   "source": [
    "90 ~ 100점은 A, 80 ~ 89점은 B, 70 ~ 79점은 C,  \n",
    "60 ~ 69점은 D, 나머지 점수는 F를 출력하는 프로그램을 작성하시오.  "
   ]
  },
  {
   "cell_type": "code",
   "execution_count": 14,
   "id": "2688e416",
   "metadata": {},
   "outputs": [
    {
     "name": "stdout",
     "output_type": "stream",
     "text": [
      "90\n",
      "A\n"
     ]
    }
   ],
   "source": [
    "a = int(input())\n",
    "if 100>= a >=90:\n",
    "    print(\"A\")\n",
    "elif 89>= a >= 80:\n",
    "    print(\"B\")\n",
    "elif 79>= a >=70:\n",
    "    print(\"C\")\n",
    "elif 69>= a >=60:\n",
    "    print(\"D\")\n",
    "else:\n",
    "    print(\"F\")"
   ]
  },
  {
   "cell_type": "markdown",
   "id": "36b86fea",
   "metadata": {},
   "source": [
    "연도가 주어졌을 때, 윤년이면 1, 아니면 0을 출력하는 프로그램을 작성하시오.  \n",
    "\n",
    "윤년은 연도가 4의 배수이면서, 100의 배수가 아닐 때 또는 400의 배수일 때이다.  \n",
    "\n",
    "예를 들어, 2012년은 4의 배수이면서 100의 배수가 아니라서 윤년이다.  \n",
    "1900년은 100의 배수이고 400의 배수는 아니기 때문에 윤년이 아니다.   \n",
    "하지만, 2000년은 400의 배수이기 때문에 윤년이다.  "
   ]
  },
  {
   "cell_type": "code",
   "execution_count": 56,
   "id": "42704077",
   "metadata": {},
   "outputs": [
    {
     "name": "stdout",
     "output_type": "stream",
     "text": [
      "1990\n",
      "0\n"
     ]
    }
   ],
   "source": [
    "a=int(input())\n",
    "if a%4==0 and a%100!=0:\n",
    "    print(\"1\")\n",
    "elif a%100==0 and a%400==0:\n",
    "    print(\"1\")\n",
    "else:\n",
    "    print('0')"
   ]
  },
  {
   "cell_type": "markdown",
   "id": "8682c28e",
   "metadata": {},
   "source": [
    "예를 들어, 좌표가 (12, 5)인 점 A는 x좌표와 y좌표가 모두 양수이므로 제1사분면에 속한다.  \n",
    "점 B는 x좌표가 음수이고 y좌표가 양수이므로 제2사분면에 속한다.  \n",
    "\n",
    "점의 좌표를 입력받아 그 점이 어느 사분면에 속하는지 알아내는 프로그램을 작성하시오.   \n",
    "단, x좌표와 y좌표는 모두 양수나 음수라고 가정한다.  "
   ]
  },
  {
   "cell_type": "code",
   "execution_count": 43,
   "id": "85e84e71",
   "metadata": {},
   "outputs": [
    {
     "name": "stdout",
     "output_type": "stream",
     "text": [
      "-12\n",
      "5\n",
      "2\n"
     ]
    }
   ],
   "source": [
    "x = int(input())\n",
    "y = int(input())\n",
    "if x>0 and y>0:\n",
    "    print('1')\n",
    "elif x<0 and y>0:\n",
    "    print('2')\n",
    "elif x<0 and y<0:\n",
    "    print('3')\n",
    "elif x>0 and y<0:\n",
    "    print('4')"
   ]
  },
  {
   "cell_type": "markdown",
   "id": "cbc84d2c",
   "metadata": {},
   "source": [
    "상근이는 매일 아침 알람을 듣고 일어난다. 알람을 듣고 바로 일어나면 다행이겠지만,  \n",
    "항상 조금만 더 자려는 마음 때문에 매일 학교를 지각하고 있다.  \n",
    "\n",
    "상근이는 모든 방법을 동원해보았지만, 조금만 더 자려는 마음은 그 어떤 것도 없앨 수가 없었다.  \n",
    "\n",
    "이런 상근이를 불쌍하게 보던, 창영이는 자신이 사용하는 방법을 추천해 주었다.  \n",
    "\n",
    "바로 \"45분 일찍 알람 설정하기\"이다.  \n",
    "  \n",
    "이 방법은 단순하다. 원래 설정되어 있는 알람을 45분 앞서는 시간으로 바꾸는 것이다.  \n",
    "어차피 알람 소리를 들으면, 알람을 끄고 조금 더 잘 것이기 때문이다.  \n",
    "이 방법을 사용하면, 매일 아침 더 잤다는 기분을 느낄 수 있고, 학교도 지각하지 않게 된다.  \n",
    "\n",
    "현재 상근이가 설정한 알람 시각이 주어졌을 때, 창영이의 방법을 사용한다면,  \n",
    "이를 언제로 고쳐야 하는지 구하는 프로그램을 작성하시오.  "
   ]
  },
  {
   "cell_type": "code",
   "execution_count": 54,
   "id": "c6d024ec",
   "metadata": {},
   "outputs": [
    {
     "name": "stdout",
     "output_type": "stream",
     "text": [
      "0 55\n",
      "0 10\n"
     ]
    }
   ],
   "source": [
    "a,b = map(int, input().split())\n",
    "if a == 0:\n",
    "    if (b-45)<0:\n",
    "        print(a+23,b+15)\n",
    "    else:\n",
    "        print(a,b-45)\n",
    "elif a>0:\n",
    "    if (b-45)<0:\n",
    "        print(a-1,b+15)\n",
    "    else:\n",
    "        print(a,b-45)\n",
    "    "
   ]
  }
 ],
 "metadata": {
  "kernelspec": {
   "display_name": "Python 3 (ipykernel)",
   "language": "python",
   "name": "python3"
  },
  "language_info": {
   "codemirror_mode": {
    "name": "ipython",
    "version": 3
   },
   "file_extension": ".py",
   "mimetype": "text/x-python",
   "name": "python",
   "nbconvert_exporter": "python",
   "pygments_lexer": "ipython3",
   "version": "3.8.8"
  }
 },
 "nbformat": 4,
 "nbformat_minor": 5
}
