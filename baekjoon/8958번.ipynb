{
 "cells": [
  {
   "cell_type": "code",
   "execution_count": null,
   "id": "5d91564f",
   "metadata": {},
   "outputs": [],
   "source": [
    "def add(a):\n",
    "    adds = 0\n",
    "    for i in range(1,len(a)+1):\n",
    "        adds += i\n",
    "    return adds"
   ]
  },
  {
   "cell_type": "code",
   "execution_count": null,
   "id": "5781f3d3",
   "metadata": {},
   "outputs": [],
   "source": [
    "add(a)"
   ]
  },
  {
   "cell_type": "code",
   "execution_count": null,
   "id": "0a02de9f",
   "metadata": {},
   "outputs": [],
   "source": [
    "def add(x):\n",
    "    adds = 0\n",
    "    for i in range(1,x+1):\n",
    "        adds += i\n",
    "    return adds\n",
    "\n",
    "b=int(input())\n",
    "\n",
    "for _ in range(b):\n",
    "    a = input()\n",
    "    num = []\n",
    "    num2 = []\n",
    "    cnt = 0\n",
    "    for i in a:\n",
    "        if i == 'O':\n",
    "            cnt +=1\n",
    "        elif i == 'X':\n",
    "            num.append(cnt)\n",
    "            cnt = 0\n",
    "    num.append(cnt)\n",
    "    \n",
    "    for j in num:\n",
    "        num2.append(add(j))\n",
    "    print(sum(num2))"
   ]
  },
  {
   "cell_type": "code",
   "execution_count": null,
   "id": "f5edc705",
   "metadata": {},
   "outputs": [],
   "source": [
    "#다른분의 풀이\n",
    "\n",
    "a = int(input())\n",
    "for i in range(a):\n",
    "    b = input()\n",
    "    s = list(b)\n",
    "    sum = 0\n",
    "    c = 1\n",
    "    for i in s:\n",
    "        if i == 'O':\n",
    "            sum += c  # sum은 계속 더함 \n",
    "            c += 1    # 연속일경우 \n",
    "        else:\n",
    "            c = 1    # 연속이 아니면 리셋\n",
    "    print(sum)\n",
    "        \n",
    "#좋은 코드다."
   ]
  },
  {
   "cell_type": "code",
   "execution_count": null,
   "id": "7286ccd5",
   "metadata": {},
   "outputs": [],
   "source": []
  }
 ],
 "metadata": {
  "kernelspec": {
   "display_name": "Python 3 (ipykernel)",
   "language": "python",
   "name": "python3"
  },
  "language_info": {
   "codemirror_mode": {
    "name": "ipython",
    "version": 3
   },
   "file_extension": ".py",
   "mimetype": "text/x-python",
   "name": "python",
   "nbconvert_exporter": "python",
   "pygments_lexer": "ipython3",
   "version": "3.8.8"
  }
 },
 "nbformat": 4,
 "nbformat_minor": 5
}
