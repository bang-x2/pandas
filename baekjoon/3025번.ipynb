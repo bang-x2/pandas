{
 "cells": [
  {
   "cell_type": "code",
   "execution_count": 8,
   "id": "8b52c66a",
   "metadata": {},
   "outputs": [
    {
     "name": "stdout",
     "output_type": "stream",
     "text": [
      "39\n",
      "40\n",
      "41\n",
      "42\n",
      "43\n",
      "44\n",
      "82\n",
      "83\n",
      "84\n",
      "85\n",
      "6\n"
     ]
    }
   ],
   "source": [
    "lists = []\n",
    "for _ in range(10):\n",
    "    A = int(input())\n",
    "    lists.append((A)%42)\n",
    "print(len(set(lists)))"
   ]
  },
  {
   "cell_type": "code",
   "execution_count": null,
   "id": "c3660972",
   "metadata": {},
   "outputs": [],
   "source": [
    "39\n",
    "40\n",
    "41\n",
    "42\n",
    "43\n",
    "44\n",
    "82\n",
    "83\n",
    "84\n",
    "85"
   ]
  }
 ],
 "metadata": {
  "kernelspec": {
   "display_name": "Python 3 (ipykernel)",
   "language": "python",
   "name": "python3"
  },
  "language_info": {
   "codemirror_mode": {
    "name": "ipython",
    "version": 3
   },
   "file_extension": ".py",
   "mimetype": "text/x-python",
   "name": "python",
   "nbconvert_exporter": "python",
   "pygments_lexer": "ipython3",
   "version": "3.8.8"
  }
 },
 "nbformat": 4,
 "nbformat_minor": 5
}
