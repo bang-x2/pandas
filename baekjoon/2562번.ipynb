{
 "cells": [
  {
   "cell_type": "code",
   "execution_count": null,
   "id": "11c9ad25",
   "metadata": {},
   "outputs": [],
   "source": [
    "# 실패\n",
    "#while 문으로 했을때는 런타임 에러 (EOFError)\n",
    "#첫째 줄부터 아홉 번째 줄까지 한 줄에 하나의 자연수가 주어진다. 주어지는 자연수는 100 보다 작다.\n",
    "buk = []\n",
    "while True:\n",
    "    a = int(input())\n",
    "    if a:\n",
    "        buk.append(a)\n",
    "    else:\n",
    "        a=max(buk)\n",
    "        print(a)\n",
    "        print(buk.index(a)+1)\n",
    "        break"
   ]
  },
  {
   "cell_type": "code",
   "execution_count": null,
   "id": "b772336b",
   "metadata": {},
   "outputs": [],
   "source": [
    "# 성공\n",
    "#첫째 줄부터 아홉 번째 줄까지 한 줄에 하나의 자연수가 주어진다. 주어지는 자연수는 100 보다 작다.\n",
    "#정확한 조건을 주어야 한다.\n",
    "buk = []\n",
    "for _ in range(9):\n",
    "    a = int(input())\n",
    "    buk.append(a)\n",
    "    if len(buk) == 9:\n",
    "        a=max(buk)\n",
    "        print(a)\n",
    "        print(buk.index(a)+1)\n",
    "        break"
   ]
  }
 ],
 "metadata": {
  "kernelspec": {
   "display_name": "Python 3 (ipykernel)",
   "language": "python",
   "name": "python3"
  },
  "language_info": {
   "codemirror_mode": {
    "name": "ipython",
    "version": 3
   },
   "file_extension": ".py",
   "mimetype": "text/x-python",
   "name": "python",
   "nbconvert_exporter": "python",
   "pygments_lexer": "ipython3",
   "version": "3.8.8"
  }
 },
 "nbformat": 4,
 "nbformat_minor": 5
}
