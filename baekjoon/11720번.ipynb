{
 "cells": [
  {
   "cell_type": "code",
   "execution_count": 5,
   "id": "a955ffbb",
   "metadata": {
    "scrolled": true
   },
   "outputs": [
    {
     "name": "stdout",
     "output_type": "stream",
     "text": [
      "5\n",
      "7000000000000000000000000\n",
      "7\n"
     ]
    }
   ],
   "source": [
    "a = input()\n",
    "b = str(input())\n",
    "adds = 0\n",
    "for i in b:\n",
    "    adds += int(i)\n",
    "print(adds)"
   ]
  },
  {
   "cell_type": "code",
   "execution_count": 8,
   "id": "675d295a",
   "metadata": {},
   "outputs": [
    {
     "name": "stdout",
     "output_type": "stream",
     "text": [
      "baekjoon\n"
     ]
    },
    {
     "data": {
      "text/plain": [
       "{'a', 'b', 'e', 'j', 'k', 'n', 'o'}"
      ]
     },
     "execution_count": 8,
     "metadata": {},
     "output_type": "execute_result"
    }
   ],
   "source": [
    "a = set(input())\n",
    "a"
   ]
  },
  {
   "cell_type": "code",
   "execution_count": null,
   "id": "789231fa",
   "metadata": {},
   "outputs": [],
   "source": [
    "import string \n",
    "\n",
    "string.ascii_lowercase # 소문자 abcdefghijklmnopqrstuvwxyz\n",
    "string.ascii_uppercase # 대문자 ABCDEFGHIJKLMNOPQRSTUVWXYZ\n",
    "string.ascii_letters # 대소문자 모두 abcdefghijklmnopqrstuvwxyzABCDEFGHIJKLMNOPQRSTUVWXYZ\n",
    "string.digits # 숫자 0123456789"
   ]
  },
  {
   "cell_type": "code",
   "execution_count": 23,
   "id": "9d0ae84c",
   "metadata": {},
   "outputs": [
    {
     "name": "stdout",
     "output_type": "stream",
     "text": [
      "baekjoon\n",
      "['a', 'b', 'c', 'd', 'e', 'f', 'g', 'h', 'i', 'j', 'k', 'l', 'm', 'n', 'o', 'p', 'q', 'r', 's', 't', 'u', 'v', 'w', 'x', 'y', 'z']\n"
     ]
    }
   ],
   "source": [
    "import string \n",
    "a = input()\n",
    "b = string.ascii_lowercase\n",
    "c = sorted(set(a))\n",
    "l  = []\n",
    "for i in b:\n",
    "    l.append(i)\n",
    "print(l)"
   ]
  },
  {
   "cell_type": "code",
   "execution_count": 47,
   "id": "ca6fce3b",
   "metadata": {},
   "outputs": [
    {
     "name": "stdout",
     "output_type": "stream",
     "text": [
      "baekjoon\n",
      "1 0 -1 -1 2 -1 -1 -1 -1 4 3 -1 -1 7 5 -1 -1 -1 -1 -1 -1 -1 -1 -1 -1 -1\n"
     ]
    }
   ],
   "source": [
    "s = input()\n",
    "a = str.maketrans(s, '01234557')\n",
    "y = string.ascii_lowercase\n",
    "c = y.translate(a)\n",
    "list_ = []\n",
    "for i in c:\n",
    "    if i.isalpha():\n",
    "        list_.append('-1')\n",
    "    else:\n",
    "        list_.append(i)\n",
    "        \n",
    "print(' '.join(list_))"
   ]
  },
  {
   "cell_type": "code",
   "execution_count": null,
   "id": "468a73c3",
   "metadata": {},
   "outputs": [],
   "source": [
    "1 0 -1 -1 2 -1 -1 -1 -1 4 3 -1 -1 7 5 -1 -1 -1 -1 -1 -1 -1 -1 -1 -1 -1"
   ]
  }
 ],
 "metadata": {
  "kernelspec": {
   "display_name": "Python 3 (ipykernel)",
   "language": "python",
   "name": "python3"
  },
  "language_info": {
   "codemirror_mode": {
    "name": "ipython",
    "version": 3
   },
   "file_extension": ".py",
   "mimetype": "text/x-python",
   "name": "python",
   "nbconvert_exporter": "python",
   "pygments_lexer": "ipython3",
   "version": "3.8.8"
  }
 },
 "nbformat": 4,
 "nbformat_minor": 5
}
