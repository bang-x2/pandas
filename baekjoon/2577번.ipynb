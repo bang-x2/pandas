{
 "cells": [
  {
   "cell_type": "code",
   "execution_count": 2,
   "id": "fb5347a8",
   "metadata": {},
   "outputs": [],
   "source": [
    "A = 150\n",
    "B = 266\n",
    "C = 427 \n",
    "\n",
    "D=str(A*B*C)"
   ]
  },
  {
   "cell_type": "code",
   "execution_count": 5,
   "id": "d84db03e",
   "metadata": {},
   "outputs": [
    {
     "data": {
      "text/plain": [
       "'17037300'"
      ]
     },
     "execution_count": 5,
     "metadata": {},
     "output_type": "execute_result"
    }
   ],
   "source": [
    "D"
   ]
  },
  {
   "cell_type": "code",
   "execution_count": 20,
   "id": "f7d51979",
   "metadata": {},
   "outputs": [
    {
     "name": "stdout",
     "output_type": "stream",
     "text": [
      "3\n",
      "1\n",
      "0\n",
      "2\n",
      "0\n",
      "0\n",
      "0\n",
      "2\n",
      "0\n",
      "0\n"
     ]
    }
   ],
   "source": [
    "A = 150\n",
    "B = 266\n",
    "C = 427 \n",
    "D=str(A*B*C)\n",
    "nums = [0]*10\n",
    "for i in range(len(nums)):\n",
    "    cnt=D.count(str(i))\n",
    "    nums[i]+=cnt\n",
    "for j in nums:\n",
    "    print(j)"
   ]
  },
  {
   "cell_type": "code",
   "execution_count": null,
   "id": "80c33f62",
   "metadata": {},
   "outputs": [],
   "source": []
  }
 ],
 "metadata": {
  "kernelspec": {
   "display_name": "Python 3 (ipykernel)",
   "language": "python",
   "name": "python3"
  },
  "language_info": {
   "codemirror_mode": {
    "name": "ipython",
    "version": 3
   },
   "file_extension": ".py",
   "mimetype": "text/x-python",
   "name": "python",
   "nbconvert_exporter": "python",
   "pygments_lexer": "ipython3",
   "version": "3.8.8"
  }
 },
 "nbformat": 4,
 "nbformat_minor": 5
}
