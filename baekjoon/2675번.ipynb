{
 "cells": [
  {
   "cell_type": "code",
   "execution_count": 18,
   "id": "fe63b980",
   "metadata": {},
   "outputs": [
    {
     "name": "stdout",
     "output_type": "stream",
     "text": [
      "2\n",
      "3 abc\n",
      "5 /htp\n",
      "aaabbbccc/////hhhhhtttttppppp"
     ]
    }
   ],
   "source": [
    "a=input()\n",
    "x=input().split()\n",
    "y=input().split()\n",
    "def loop(self):    \n",
    "    for i in self[1]:\n",
    "        print(i*int(self[0]),end='')\n",
    "loop(x)\n",
    "loop(y)"
   ]
  },
  {
   "cell_type": "code",
   "execution_count": null,
   "id": "69b1456c",
   "metadata": {},
   "outputs": [],
   "source": [
    "n = int(input())\n",
    "\n",
    "for _ in range(n):\n",
    "    cnt, word = input().split()\n",
    "    for x in word:\n",
    "        print(x*int(cnt), end='')  \n",
    "    print()  # 줄넘김"
   ]
  }
 ],
 "metadata": {
  "kernelspec": {
   "display_name": "Python 3 (ipykernel)",
   "language": "python",
   "name": "python3"
  },
  "language_info": {
   "codemirror_mode": {
    "name": "ipython",
    "version": 3
   },
   "file_extension": ".py",
   "mimetype": "text/x-python",
   "name": "python",
   "nbconvert_exporter": "python",
   "pygments_lexer": "ipython3",
   "version": "3.8.8"
  }
 },
 "nbformat": 4,
 "nbformat_minor": 5
}
