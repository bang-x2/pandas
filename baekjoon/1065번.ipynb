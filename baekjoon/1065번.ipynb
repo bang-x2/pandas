{
 "cells": [
  {
   "cell_type": "markdown",
   "id": "5d352839",
   "metadata": {},
   "source": [
    "어떤 양의 정수 X의 각 자리가 등차수열을 이룬다면, <br>\n",
    "그 수를 한수라고 한다. 등차수열은 연속된 두 개의 수의 차이가 일정한 수열을 말한다.<br>\n",
    "N이 주어졌을 때,1보다 크거나 같고,<br>\n",
    "N보다 작거나 같은 한수의 개수를 출력하는 프로그램을 작성하시오. <br>"
   ]
  },
  {
   "cell_type": "code",
   "execution_count": null,
   "id": "66821a63",
   "metadata": {},
   "outputs": [],
   "source": [
    "# 123 = 1차이\n",
    "# 135 = 2차이\n",
    "\n",
    "#1의자리\n",
    "#10의자리\n",
    "#100의자리\n",
    "#1000미만숫자까지 등차수열인 수를 구하여라\n",
    "\n",
    "#1의 자리는 모두 등차수열이라고 구분한다.\n",
    "#1 의자라는                            (9개)\n",
    "#10의자리는 10,12,13,14,15,16,17,18,19 (9개)\n",
    "#20의자리는 20,21,23,24,25,26,27,28,29 (9개)\n",
    "#30의자리는 30,31,32,34,35,36,37,38,39 (9개)\n",
    "#40의자리는 ...\n",
    "#50의자리는 ...\n",
    ".\n",
    ".\n",
    ".\n",
    "#90의자리는 ..                         (9개)\n",
    "\n",
    "# 그래서 100전까지 99개의 등차수열이 존재한다."
   ]
  },
  {
   "cell_type": "code",
   "execution_count": 2,
   "id": "5e5eb9a8",
   "metadata": {},
   "outputs": [
    {
     "name": "stdout",
     "output_type": "stream",
     "text": [
      "110\n",
      "99\n"
     ]
    }
   ],
   "source": [
    "a = int(input())\n",
    "cnt=0\n",
    "for i in range(1,a+1):\n",
    "    b100 = i // 100\n",
    "    b10 = i % 100 //10\n",
    "    b1 = i % 100 % 10\n",
    "    if i < 100:             \n",
    "        cnt += 1            \n",
    "    elif 100 <= i < 1000:\n",
    "        if (b100 - b10 ) == (b10 - b1 ): # 자릿수의 차가 같은 경우\n",
    "                cnt += 1\n",
    "print(cnt)"
   ]
  },
  {
   "cell_type": "code",
   "execution_count": null,
   "id": "f77a96d7",
   "metadata": {},
   "outputs": [],
   "source": []
  }
 ],
 "metadata": {
  "kernelspec": {
   "display_name": "Python 3 (ipykernel)",
   "language": "python",
   "name": "python3"
  },
  "language_info": {
   "codemirror_mode": {
    "name": "ipython",
    "version": 3
   },
   "file_extension": ".py",
   "mimetype": "text/x-python",
   "name": "python",
   "nbconvert_exporter": "python",
   "pygments_lexer": "ipython3",
   "version": "3.8.8"
  }
 },
 "nbformat": 4,
 "nbformat_minor": 5
}
