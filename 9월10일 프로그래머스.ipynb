{
 "cells": [
  {
   "cell_type": "code",
   "execution_count": 1,
   "id": "fff6512e",
   "metadata": {},
   "outputs": [],
   "source": [
    "def solution(x, n):\n",
    "    \n",
    "    answer = [  ]\n",
    "    for i in range (1,n+1):\n",
    "        answer.append(x*i)  \n",
    "    return answer"
   ]
  },
  {
   "cell_type": "code",
   "execution_count": 2,
   "id": "6b6a720c",
   "metadata": {},
   "outputs": [
    {
     "data": {
      "text/plain": [
       "[-4, -8]"
      ]
     },
     "execution_count": 2,
     "metadata": {},
     "output_type": "execute_result"
    }
   ],
   "source": [
    "solution(-4,2)"
   ]
  },
  {
   "cell_type": "code",
   "execution_count": 18,
   "id": "76ca5c6e",
   "metadata": {},
   "outputs": [],
   "source": [
    "def solution(x, n):\n",
    "    return [i* x + x for i in range(n)]"
   ]
  },
  {
   "cell_type": "code",
   "execution_count": 20,
   "id": "7755b1be",
   "metadata": {},
   "outputs": [
    {
     "data": {
      "text/plain": [
       "[2, 4, 6, 8, 10]"
      ]
     },
     "execution_count": 20,
     "metadata": {},
     "output_type": "execute_result"
    }
   ],
   "source": [
    "solution(2,5)"
   ]
  },
  {
   "cell_type": "code",
   "execution_count": 9,
   "id": "04b438dc",
   "metadata": {},
   "outputs": [
    {
     "name": "stdout",
     "output_type": "stream",
     "text": [
      "4 3\n",
      "****\n",
      "****\n",
      "****\n"
     ]
    }
   ],
   "source": [
    "a, b = map(int, input().strip().split(' '))\n",
    "for _ in range(b):\n",
    "    print(\"*\"*a)"
   ]
  },
  {
   "cell_type": "code",
   "execution_count": 22,
   "id": "7a9bc58c",
   "metadata": {},
   "outputs": [],
   "source": [
    "def solution(arr):\n",
    "    return sum(arr)/len(arr)"
   ]
  },
  {
   "cell_type": "code",
   "execution_count": 23,
   "id": "ad597de8",
   "metadata": {},
   "outputs": [
    {
     "data": {
      "text/plain": [
       "6.0"
      ]
     },
     "execution_count": 23,
     "metadata": {},
     "output_type": "execute_result"
    }
   ],
   "source": [
    "solution([2, 4, 6, 8, 10])"
   ]
  },
  {
   "cell_type": "code",
   "execution_count": 24,
   "id": "e1e27df2",
   "metadata": {},
   "outputs": [],
   "source": [
    "def solution(arr1, arr2):\n",
    "    answer = arr1\n",
    "\n",
    "    for i in range(len(arr1)):\n",
    "        for j in range(len(arr1[i])):\n",
    "            answer[i][j]=(arr1[i][j]+arr2[i][j])\n",
    "    return answer"
   ]
  },
  {
   "cell_type": "code",
   "execution_count": 25,
   "id": "b46c3be7",
   "metadata": {},
   "outputs": [
    {
     "data": {
      "text/plain": [
       "[[4, 6], [7, 9]]"
      ]
     },
     "execution_count": 25,
     "metadata": {},
     "output_type": "execute_result"
    }
   ],
   "source": [
    "arr1=[[1,2],[2,3]]\n",
    "arr2=[[3,4],[5,6]]\n",
    "solution(arr1, arr2)"
   ]
  },
  {
   "cell_type": "code",
   "execution_count": 41,
   "id": "2a640ae9",
   "metadata": {},
   "outputs": [],
   "source": [
    "def solution(N):\n",
    "    return sum([int(i) for i in str(N)])"
   ]
  },
  {
   "cell_type": "code",
   "execution_count": 42,
   "id": "ef90a352",
   "metadata": {
    "scrolled": true
   },
   "outputs": [
    {
     "data": {
      "text/plain": [
       "6"
      ]
     },
     "execution_count": 42,
     "metadata": {},
     "output_type": "execute_result"
    }
   ],
   "source": [
    "solution(123)"
   ]
  },
  {
   "cell_type": "code",
   "execution_count": 51,
   "id": "db005eb2",
   "metadata": {},
   "outputs": [
    {
     "name": "stdout",
     "output_type": "stream",
     "text": [
      "1\n",
      "2\n",
      "4\n",
      "2\n",
      "4\n",
      "2\n",
      "3\n",
      "결과 : 6\n"
     ]
    }
   ],
   "source": [
    "#재귀함수\n",
    "print('1')\n",
    "def sum_digit(number):\n",
    "    print('2')\n",
    "    if number < 10:    #10을 초과했을 때 3에간다.\n",
    "        print('3')\n",
    "        return number\n",
    "    print('4')\n",
    "    return (number % 10) + sum_digit(number // 10)\n",
    "\n",
    "\n",
    "print(\"결과 : {}\".format(sum_digit(123)))"
   ]
  },
  {
   "cell_type": "code",
   "execution_count": 52,
   "id": "dc74d9cc",
   "metadata": {},
   "outputs": [
    {
     "data": {
      "text/plain": [
       "3"
      ]
     },
     "execution_count": 52,
     "metadata": {},
     "output_type": "execute_result"
    }
   ],
   "source": [
    "123 % 10"
   ]
  },
  {
   "cell_type": "code",
   "execution_count": 53,
   "id": "c74adcb6",
   "metadata": {},
   "outputs": [
    {
     "data": {
      "text/plain": [
       "12"
      ]
     },
     "execution_count": 53,
     "metadata": {},
     "output_type": "execute_result"
    }
   ],
   "source": [
    "123 // 10"
   ]
  },
  {
   "cell_type": "code",
   "execution_count": 54,
   "id": "378ab5e5",
   "metadata": {},
   "outputs": [
    {
     "data": {
      "text/plain": [
       "2"
      ]
     },
     "execution_count": 54,
     "metadata": {},
     "output_type": "execute_result"
    }
   ],
   "source": [
    "12 % 10"
   ]
  },
  {
   "cell_type": "code",
   "execution_count": null,
   "id": "d2e9557c",
   "metadata": {},
   "outputs": [],
   "source": []
  }
 ],
 "metadata": {
  "kernelspec": {
   "display_name": "Python 3",
   "language": "python",
   "name": "python3"
  },
  "language_info": {
   "codemirror_mode": {
    "name": "ipython",
    "version": 3
   },
   "file_extension": ".py",
   "mimetype": "text/x-python",
   "name": "python",
   "nbconvert_exporter": "python",
   "pygments_lexer": "ipython3",
   "version": "3.8.8"
  }
 },
 "nbformat": 4,
 "nbformat_minor": 5
}
