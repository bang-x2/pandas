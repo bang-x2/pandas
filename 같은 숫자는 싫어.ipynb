{
 "cells": [
  {
   "cell_type": "code",
   "execution_count": 91,
   "id": "45c6f4f4",
   "metadata": {},
   "outputs": [
    {
     "name": "stdout",
     "output_type": "stream",
     "text": [
      "[1, 3]\n",
      "[1, 3, 0]\n",
      "[1, 3, 0, 1]\n"
     ]
    }
   ],
   "source": [
    "\n",
    "arr_v = []\n",
    "arr_x = []\n",
    "arr_v.append(arr.pop(0))\n",
    "for _ in range(len(arr)):\n",
    "    if arr_v[-1] == arr[0]:\n",
    "        arr_x.append(arr.pop(0))\n",
    "    else:\n",
    "        arr_v.append(arr.pop(0))\n",
    "        print(arr_v)"
   ]
  },
  {
   "cell_type": "code",
   "execution_count": 81,
   "id": "06c93bc4",
   "metadata": {},
   "outputs": [
    {
     "name": "stdout",
     "output_type": "stream",
     "text": [
      "[1, 1]\n"
     ]
    }
   ],
   "source": [
    "arr = [1, 1, 3, 3, 0, 1, 1]\n",
    "arr_v = []\n",
    "arr_x = []\n",
    "arr_v.append(arr.pop(0))\n",
    "for _ in range(len(arr)//2):\n",
    "    if arr_v[-1] == arr[0]:\n",
    "        arr_v.append(arr.pop(0))\n",
    "    else:\n",
    "        arr_x.append(arr.pop(0))\n",
    "    print(arr_v)"
   ]
  },
  {
   "cell_type": "code",
   "execution_count": 77,
   "id": "d8d9d37d",
   "metadata": {},
   "outputs": [
    {
     "name": "stdout",
     "output_type": "stream",
     "text": [
      "[1, 1, 3, 3, 0, 1, 1]\n"
     ]
    }
   ],
   "source": [
    "arr = [1, 1, 3, 3, 0, 1, 1]\n",
    "arr_v = []\n",
    "arr_x = []\n",
    "arr_v.append(arr.pop(0))\n",
    "for _ in range(len(arr)//2):\n",
    "\n",
    "    if arr_v[-1] != arr_v.append(arr.pop(0)):\n",
    "        arr_v.append(arr.pop(0))\n",
    "    else:\n",
    "        arr_x.append(arr.pop(0))\n",
    "        \n",
    "print(arr_v)"
   ]
  },
  {
   "cell_type": "code",
   "execution_count": 85,
   "id": "834ad07b",
   "metadata": {},
   "outputs": [
    {
     "data": {
      "text/plain": [
       "[1]"
      ]
     },
     "execution_count": 85,
     "metadata": {},
     "output_type": "execute_result"
    }
   ],
   "source": [
    "arr = [1, 1, 3, 3, 0, 1, 1]\n",
    "arr_s=[]\n",
    "arr_s.append(arr[0])\n"
   ]
  },
  {
   "cell_type": "code",
   "execution_count": 86,
   "id": "c59f0ba7",
   "metadata": {},
   "outputs": [
    {
     "data": {
      "text/plain": [
       "[1, 1, 3, 3, 0, 1, 1]"
      ]
     },
     "execution_count": 86,
     "metadata": {},
     "output_type": "execute_result"
    }
   ],
   "source": [
    "arr"
   ]
  },
  {
   "cell_type": "code",
   "execution_count": 96,
   "id": "15a0708b",
   "metadata": {},
   "outputs": [],
   "source": [
    "def solution(arr):\n",
    "    arr_v = []\n",
    "    for _ in range(len(arr)):\n",
    "        if arr_v[-1] == arr[0]:\n",
    "            arr_x.append(arr.pop(0))\n",
    "        else:\n",
    "            arr_v.append(arr.pop(0))\n",
    "    return arr_v"
   ]
  },
  {
   "cell_type": "code",
   "execution_count": 98,
   "id": "dd917b68",
   "metadata": {},
   "outputs": [
    {
     "data": {
      "text/plain": [
       "[4, 5]"
      ]
     },
     "execution_count": 98,
     "metadata": {},
     "output_type": "execute_result"
    }
   ],
   "source": [
    "solution([4,4,4,5,5])"
   ]
  },
  {
   "cell_type": "code",
   "execution_count": 99,
   "id": "40a12078",
   "metadata": {},
   "outputs": [],
   "source": [
    "def solution(arr):\n",
    "    b = []\n",
    "    for i in range(len(arr)):\n",
    "        if i == 0:\n",
    "            b.append(arr[i])\n",
    "        elif arr[i] != arr[i-1]:\n",
    "            b.append(arr[i])\n",
    "\n",
    "    return b"
   ]
  },
  {
   "cell_type": "code",
   "execution_count": 101,
   "id": "d7ec18b9",
   "metadata": {},
   "outputs": [
    {
     "data": {
      "text/plain": [
       "[1, 3, 0, 1]"
      ]
     },
     "execution_count": 101,
     "metadata": {},
     "output_type": "execute_result"
    }
   ],
   "source": [
    "solution([1, 1, 3, 3, 0, 1, 1])"
   ]
  },
  {
   "cell_type": "code",
   "execution_count": 102,
   "id": "45456da1",
   "metadata": {},
   "outputs": [],
   "source": [
    "def no_continuous(s):\n",
    "    a = []\n",
    "    for i in s:\n",
    "        if a[-1:] == [i]: continue #초기 비교 변수를 안 만들어도 된다 다음에 빈리스트에 들어오니 \n",
    "        a.append(i)\n",
    "    return a"
   ]
  },
  {
   "cell_type": "code",
   "execution_count": 103,
   "id": "01cdbcce",
   "metadata": {},
   "outputs": [
    {
     "data": {
      "text/plain": [
       "[1, 3, 0, 1]"
      ]
     },
     "execution_count": 103,
     "metadata": {},
     "output_type": "execute_result"
    }
   ],
   "source": [
    "solution([1, 1, 3, 3, 0, 1, 1])"
   ]
  },
  {
   "cell_type": "code",
   "execution_count": null,
   "id": "839f0754",
   "metadata": {},
   "outputs": [],
   "source": []
  }
 ],
 "metadata": {
  "kernelspec": {
   "display_name": "Python 3",
   "language": "python",
   "name": "python3"
  },
  "language_info": {
   "codemirror_mode": {
    "name": "ipython",
    "version": 3
   },
   "file_extension": ".py",
   "mimetype": "text/x-python",
   "name": "python",
   "nbconvert_exporter": "python",
   "pygments_lexer": "ipython3",
   "version": "3.8.8"
  }
 },
 "nbformat": 4,
 "nbformat_minor": 5
}
