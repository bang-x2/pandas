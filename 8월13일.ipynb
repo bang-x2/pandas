{
 "cells": [
  {
   "cell_type": "code",
   "execution_count": 38,
   "id": "09f2083e",
   "metadata": {},
   "outputs": [
    {
     "name": "stdout",
     "output_type": "stream",
     "text": [
      "2021-08-13 12:14:38.860761\n"
     ]
    }
   ],
   "source": [
    "from datetime import datetime\n",
    "\n",
    "print(datetime.now())"
   ]
  },
  {
   "cell_type": "code",
   "execution_count": 39,
   "id": "e358387e",
   "metadata": {},
   "outputs": [],
   "source": [
    "class Student:\n",
    "    pass\n",
    "\n",
    "student = Student()\n",
    "\n",
    "students = [\n",
    "    Student(),\n",
    "    Student(),\n",
    "    Student(),\n",
    "    Student(),\n",
    "    Student()\n",
    "]"
   ]
  },
  {
   "cell_type": "code",
   "execution_count": 46,
   "id": "607768da",
   "metadata": {},
   "outputs": [
    {
     "name": "stdout",
     "output_type": "stream",
     "text": [
      "[<__main__.Student object at 0x0000026CEE1C97C0>, <__main__.Student object at 0x0000026CEE1C9220>, <__main__.Student object at 0x0000026CEE1C9040>, <__main__.Student object at 0x0000026CEE1C9070>, <__main__.Student object at 0x0000026CEE1C90A0>]\n"
     ]
    }
   ],
   "source": [
    "print(students)"
   ]
  },
  {
   "cell_type": "markdown",
   "id": "87d09227",
   "metadata": {},
   "source": [
    "# <student.py>"
   ]
  },
  {
   "cell_type": "code",
   "execution_count": 1,
   "id": "c5609b61",
   "metadata": {},
   "outputs": [
    {
     "name": "stdout",
     "output_type": "stream",
     "text": [
      "1번째 학생이 생성되었음.\n",
      "2번째 학생이 생성되었음.\n",
      "<class '__main__.HighStudent'>\n",
      "True\n",
      "True\n",
      "True\n",
      "False\n",
      "안녕, 난 고딩이야\n",
      "담에 또 봐~\n",
      "학생입니다.\n",
      "이름: 장\n",
      "학생 홍입니다.\n",
      "학생 장입니다.\n"
     ]
    },
    {
     "ename": "AttributeError",
     "evalue": "'HighStudent' object has no attribute '__korean'",
     "output_type": "error",
     "traceback": [
      "\u001b[1;31m---------------------------------------------------------------------------\u001b[0m",
      "\u001b[1;31mAttributeError\u001b[0m                            Traceback (most recent call last)",
      "\u001b[1;32m<ipython-input-1-32ecbf009a20>\u001b[0m in \u001b[0;36m<module>\u001b[1;34m\u001b[0m\n\u001b[0;32m     46\u001b[0m \u001b[0mprint\u001b[0m\u001b[1;33m(\u001b[0m\u001b[0mjang\u001b[0m\u001b[1;33m)\u001b[0m\u001b[1;33m\u001b[0m\u001b[1;33m\u001b[0m\u001b[0m\n\u001b[0;32m     47\u001b[0m \u001b[1;33m\u001b[0m\u001b[0m\n\u001b[1;32m---> 48\u001b[1;33m \u001b[0mprint\u001b[0m\u001b[1;33m(\u001b[0m\u001b[0mhong\u001b[0m\u001b[1;33m.\u001b[0m\u001b[0m__korean\u001b[0m\u001b[1;33m)\u001b[0m\u001b[1;33m\u001b[0m\u001b[1;33m\u001b[0m\u001b[0m\n\u001b[0m\u001b[0;32m     49\u001b[0m \u001b[0mprint\u001b[0m\u001b[1;33m(\u001b[0m\u001b[0mjang\u001b[0m\u001b[1;33m.\u001b[0m\u001b[0m__english\u001b[0m\u001b[1;33m)\u001b[0m\u001b[1;33m\u001b[0m\u001b[1;33m\u001b[0m\u001b[0m\n",
      "\u001b[1;31mAttributeError\u001b[0m: 'HighStudent' object has no attribute '__korean'"
     ]
    }
   ],
   "source": [
    "class Student:\n",
    "    count = 0\n",
    " \n",
    "    def __init__(self, name, korean, english):\n",
    "        self.name = name\n",
    "        self.__korean = korean\n",
    "        self.__english = english\n",
    " \n",
    "        Student.count += 1\n",
    "        print('{}번째 학생이 생성되었음.'.format(Student.count))\n",
    " \n",
    "    def __str__(self):\n",
    "        return '학생 {}입니다.'.format(self.name)\n",
    " \n",
    "    def show(self):\n",
    "        print('학생입니다.')\n",
    "        print('이름: {}'.format(self.name))\n",
    " \n",
    "class HighStudent(Student):\n",
    "    def __init__(self, name, korean, english, dream):\n",
    "        super().__init__(name, korean, english)\n",
    "        self.dream = dream\n",
    " \n",
    "    def hello(self):\n",
    "        print('안녕, 난 고딩이야')\n",
    " \n",
    "    def show(self):\n",
    "        self.hello()\n",
    "        print('담에 또 봐~')\n",
    " \n",
    " \n",
    "hong = HighStudent('홍', 20, 30, '의적')\n",
    "jang = Student('장', 20, 40)\n",
    " \n",
    "print(type(hong))\n",
    "print(isinstance(hong, HighStudent))\n",
    "print(isinstance(hong, Student))\n",
    " \n",
    "print(isinstance(jang, Student))\n",
    "print(isinstance(jang, HighStudent))\n",
    " \n",
    "hong.show()\n",
    "jang.show()\n",
    " \n",
    "print(hong)\n",
    "print(jang)\n",
    " \n",
    "print(hong.__korean)\n",
    "print(jang.__english)\n"
   ]
  },
  {
   "cell_type": "code",
   "execution_count": 65,
   "id": "dc857db2",
   "metadata": {},
   "outputs": [],
   "source": [
    "jang = Student('장', 20, 40)"
   ]
  },
  {
   "cell_type": "code",
   "execution_count": 66,
   "id": "99e364dd",
   "metadata": {},
   "outputs": [
    {
     "name": "stdout",
     "output_type": "stream",
     "text": [
      "<__main__.Student object at 0x0000026CEE1D7940>\n"
     ]
    }
   ],
   "source": [
    "print(hong)"
   ]
  },
  {
   "cell_type": "code",
   "execution_count": 67,
   "id": "fbd8d234",
   "metadata": {},
   "outputs": [
    {
     "name": "stdout",
     "output_type": "stream",
     "text": [
      "홍길동\n"
     ]
    }
   ],
   "source": [
    "print(hong.name)"
   ]
  },
  {
   "cell_type": "code",
   "execution_count": 72,
   "id": "9ad67997",
   "metadata": {},
   "outputs": [
    {
     "name": "stdout",
     "output_type": "stream",
     "text": [
      "<bound method Student.show of <__main__.Student object at 0x0000026CEE0C7D60>>\n"
     ]
    }
   ],
   "source": [
    "print(hong.show)"
   ]
  },
  {
   "cell_type": "code",
   "execution_count": 69,
   "id": "b2e6c815",
   "metadata": {},
   "outputs": [
    {
     "name": "stdout",
     "output_type": "stream",
     "text": [
      "홍길동\n",
      "장\n"
     ]
    }
   ],
   "source": [
    "print(hong.name)\n",
    "print(jang.name)"
   ]
  },
  {
   "cell_type": "markdown",
   "id": "3410d694",
   "metadata": {},
   "source": [
    "# 어떤클래스의 인스턴스인지 확인하기"
   ]
  },
  {
   "cell_type": "code",
   "execution_count": 47,
   "id": "c52322e2",
   "metadata": {},
   "outputs": [],
   "source": [
    "#isinstance(인스턴스, 클래스)"
   ]
  },
  {
   "cell_type": "code",
   "execution_count": 57,
   "id": "727c1355",
   "metadata": {},
   "outputs": [
    {
     "name": "stdout",
     "output_type": "stream",
     "text": [
      "isinstance(student, Student): True\n"
     ]
    }
   ],
   "source": [
    "class Student:\n",
    "    def __init__(self):\n",
    "        pass\n",
    "    \n",
    "    def __name__(self):\n",
    "        pass\n",
    "    \n",
    "student = Student()\n",
    "\n",
    "print(\"isinstance(student, Student):\", isinstance(student, Student))\n"
   ]
  },
  {
   "cell_type": "markdown",
   "id": "df550ab5",
   "metadata": {},
   "source": [
    "#### 단순 인스턴스 확인"
   ]
  },
  {
   "cell_type": "code",
   "execution_count": 50,
   "id": "d2105319",
   "metadata": {},
   "outputs": [
    {
     "data": {
      "text/plain": [
       "True"
      ]
     },
     "execution_count": 50,
     "metadata": {},
     "output_type": "execute_result"
    }
   ],
   "source": [
    "type(student) == Student"
   ]
  },
  {
   "cell_type": "code",
   "execution_count": 52,
   "id": "ff4c31d8",
   "metadata": {},
   "outputs": [
    {
     "data": {
      "text/plain": [
       "__main__.Student"
      ]
     },
     "execution_count": 52,
     "metadata": {},
     "output_type": "execute_result"
    }
   ],
   "source": [
    "#타입확인\n",
    "type(student)"
   ]
  },
  {
   "cell_type": "code",
   "execution_count": 58,
   "id": "cee7d63e",
   "metadata": {},
   "outputs": [
    {
     "data": {
      "text/plain": [
       "__main__.Student"
      ]
     },
     "execution_count": 58,
     "metadata": {},
     "output_type": "execute_result"
    }
   ],
   "source": [
    "#타입확인\n",
    "Student"
   ]
  },
  {
   "cell_type": "markdown",
   "id": "b048033c",
   "metadata": {},
   "source": [
    "# 클래스 변수와 메소드"
   ]
  },
  {
   "cell_type": "code",
   "execution_count": null,
   "id": "4589a0e5",
   "metadata": {},
   "outputs": [],
   "source": [
    "#데코레이터 (decorator) : @classmethod"
   ]
  },
  {
   "cell_type": "code",
   "execution_count": 78,
   "id": "870dec90",
   "metadata": {},
   "outputs": [
    {
     "name": "stdout",
     "output_type": "stream",
     "text": [
      "2021-08-13 15:06:09.850160\n",
      "MAIN FUNCTION 1 START\n",
      "2021-08-13 15:06:09.850160\n",
      "2021-08-13 15:06:09.850160\n",
      "MAIN FUNCTION 2 START\n",
      "2021-08-13 15:06:09.850160\n",
      "2021-08-13 15:06:09.850160\n",
      "MAIN FUNCTION 3 START\n",
      "2021-08-13 15:06:09.850160\n"
     ]
    }
   ],
   "source": [
    "import datetime\n",
    "\n",
    "\n",
    "\n",
    "class DatetimeDecorator:\n",
    "\n",
    "        def __init__(self, f):\n",
    "\n",
    "                self.func = f\n",
    "\n",
    "\n",
    "\n",
    "        def __call__(self, *args, **kwargs):\n",
    "\n",
    "                print(datetime.datetime.now())\n",
    "\n",
    "                self.func(*args, **kwargs)\n",
    "\n",
    "                print(datetime.datetime.now())\n",
    "\n",
    "\n",
    "\n",
    "class MainClass:\n",
    "\n",
    "        @DatetimeDecorator\n",
    "\n",
    "        def main_function_1():\n",
    "\n",
    "                print(\"MAIN FUNCTION 1 START\")\n",
    "\n",
    "\n",
    "\n",
    "        @DatetimeDecorator\n",
    "\n",
    "        def main_function_2():\n",
    "\n",
    "                print(\"MAIN FUNCTION 2 START\")\n",
    "\n",
    "\n",
    "\n",
    "        @DatetimeDecorator\n",
    "\n",
    "        def main_function_3():\n",
    "\n",
    "                print(\"MAIN FUNCTION 3 START\")\n",
    "\n",
    "\n",
    "\n",
    "\n",
    "\n",
    "my = MainClass()\n",
    "\n",
    "my.main_function_1()\n",
    "\n",
    "my.main_function_2()\n",
    "\n",
    "my.main_function_3()\n",
    "\n",
    "\n",
    "\n",
    "    "
   ]
  },
  {
   "cell_type": "code",
   "execution_count": null,
   "id": "16194a7e",
   "metadata": {},
   "outputs": [],
   "source": []
  }
 ],
 "metadata": {
  "kernelspec": {
   "display_name": "Python 3",
   "language": "python",
   "name": "python3"
  },
  "language_info": {
   "codemirror_mode": {
    "name": "ipython",
    "version": 3
   },
   "file_extension": ".py",
   "mimetype": "text/x-python",
   "name": "python",
   "nbconvert_exporter": "python",
   "pygments_lexer": "ipython3",
   "version": "3.8.8"
  }
 },
 "nbformat": 4,
 "nbformat_minor": 5
}
