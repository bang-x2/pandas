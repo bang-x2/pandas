{
 "cells": [
  {
   "cell_type": "code",
   "execution_count": 2,
   "id": "88064d45",
   "metadata": {},
   "outputs": [],
   "source": [
    "price = 3\n",
    "money = 20\n",
    "count = 4\n",
    "counts = 1"
   ]
  },
  {
   "cell_type": "code",
   "execution_count": null,
   "id": "3fd44e6a",
   "metadata": {},
   "outputs": [],
   "source": [
    "    #이용횟수 count\n",
    "    #이용요금 count * price\n",
    "    #모자라는 금액이 없으면 retrun 0\n",
    "    #모자라는 금액이 있으면 return 모자라는금액\n",
    "while counts <= count:\n",
    "    if (price*count) >  money:\n",
    "        money_et=(count*price) - money\n",
    "        counts += counts\n",
    "print(money_et)\n",
    "        "
   ]
  },
  {
   "cell_type": "code",
   "execution_count": null,
   "id": "7c19eb6f",
   "metadata": {},
   "outputs": [],
   "source": [
    "#while 문은 살작 핀트가 나간것 같아서 for반복문으로 바꿧다"
   ]
  },
  {
   "cell_type": "code",
   "execution_count": null,
   "id": "e6a2d4d0",
   "metadata": {},
   "outputs": [],
   "source": [
    "#for 문으로 만들어 보아라"
   ]
  },
  {
   "cell_type": "code",
   "execution_count": 42,
   "id": "a353dcfa",
   "metadata": {},
   "outputs": [],
   "source": []
  },
  {
   "cell_type": "code",
   "execution_count": 13,
   "id": "b84dcd6a",
   "metadata": {},
   "outputs": [],
   "source": [
    "def solution(price, money, count):\n",
    "    return max(0,price*(count+1)*count//2-money)\n"
   ]
  },
  {
   "cell_type": "code",
   "execution_count": 14,
   "id": "94770e22",
   "metadata": {},
   "outputs": [
    {
     "data": {
      "text/plain": [
       "10"
      ]
     },
     "execution_count": 14,
     "metadata": {},
     "output_type": "execute_result"
    }
   ],
   "source": [
    "solution(3, 20, 4)"
   ]
  },
  {
   "cell_type": "code",
   "execution_count": 2,
   "id": "bcc8ca8f",
   "metadata": {},
   "outputs": [],
   "source": [
    "price = 3\n",
    "money = 20\n",
    "count = 4"
   ]
  },
  {
   "cell_type": "code",
   "execution_count": 6,
   "id": "006bbbef",
   "metadata": {},
   "outputs": [
    {
     "name": "stdout",
     "output_type": "stream",
     "text": [
      "10\n"
     ]
    }
   ],
   "source": [
    "sum_v = []\n",
    "for i in range(1,count+1):\n",
    "    sum_v.append(i*price)\n",
    "if sum(sum_v) >= money:\n",
    "    print(sum(sum_v)-money)\n",
    "    \n",
    "else:\n",
    "    print(int(0))\n"
   ]
  },
  {
   "cell_type": "markdown",
   "id": "e1ddcad8",
   "metadata": {},
   "source": [
    "# 좋아요가 많은 코딩"
   ]
  },
  {
   "cell_type": "code",
   "execution_count": 20,
   "id": "9025f901",
   "metadata": {},
   "outputs": [],
   "source": [
    "def solution(price, money, count):\n",
    "    return max(0,price*(count+1)*count//2-money)\n"
   ]
  },
  {
   "cell_type": "code",
   "execution_count": 22,
   "id": "7fcc2035",
   "metadata": {},
   "outputs": [
    {
     "data": {
      "text/plain": [
       "1"
      ]
     },
     "execution_count": 22,
     "metadata": {},
     "output_type": "execute_result"
    }
   ],
   "source": [
    "solution(3, 29, 4)"
   ]
  },
  {
   "cell_type": "code",
   "execution_count": null,
   "id": "ba3627cd",
   "metadata": {},
   "outputs": [],
   "source": []
  },
  {
   "cell_type": "code",
   "execution_count": null,
   "id": "dc02079b",
   "metadata": {},
   "outputs": [],
   "source": []
  }
 ],
 "metadata": {
  "kernelspec": {
   "display_name": "Python 3",
   "language": "python",
   "name": "python3"
  },
  "language_info": {
   "codemirror_mode": {
    "name": "ipython",
    "version": 3
   },
   "file_extension": ".py",
   "mimetype": "text/x-python",
   "name": "python",
   "nbconvert_exporter": "python",
   "pygments_lexer": "ipython3",
   "version": "3.8.8"
  }
 },
 "nbformat": 4,
 "nbformat_minor": 5
}
