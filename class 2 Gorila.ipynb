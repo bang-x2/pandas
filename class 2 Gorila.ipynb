{
 "cells": [
  {
   "cell_type": "code",
   "execution_count": 47,
   "id": "c5dc0376",
   "metadata": {},
   "outputs": [],
   "source": [
    "class Gorila:\n",
    "    def __init__(self):\n",
    "        self.result = []\n",
    "        \n",
    "    def Get(self,name):\n",
    "        self.result.append(str(name))\n",
    "    \n",
    "    def Eat(self,num):\n",
    "        \n",
    "        for _ in range(num):\n",
    "            self.result.pop()\n",
    "        return self.result\n",
    "    \n",
    "    def Check(self):\n",
    "        return self.result\n",
    "   \n",
    "    def Shout(self):\n",
    "        return print(\"우가우가\")\n",
    "    \n",
    "    def Walk(self):\n",
    "        print('어디로 움직일까요?')\n",
    "        print('ex)위:w 아래:s 오른쪽:a 왼쪽:d')\n",
    "        \n",
    "        walk=input('이동할 방향을 입력해 주세요')\n",
    "        \n",
    "        if walk.isalpha:\n",
    "            if walk == 'w':\n",
    "                print(f'입력하신{walk}로 \\n 위로 이동하였습니다.')\n",
    "            elif walk == 's':\n",
    "                print(f'입력하신{walk}로 \\n 아래로 이동하였습니다.')\n",
    "            elif walk == 'a':\n",
    "                print(f'입력하신{walk}로 \\n 왼쪽으로 이동하였습니다.')\n",
    "            else:\n",
    "                print(f'입력하신{walk}로 \\n 오른쪽으로 이동하였습니다.')\n",
    "                \n",
    "        else:\n",
    "            print(\"영어를 입력해 주세요\")\n",
    "        \n",
    "                "
   ]
  },
  {
   "cell_type": "code",
   "execution_count": 58,
   "id": "f47d0bfa",
   "metadata": {},
   "outputs": [],
   "source": [
    "a = Gorila()\n"
   ]
  },
  {
   "cell_type": "code",
   "execution_count": 59,
   "id": "d6bebea1",
   "metadata": {},
   "outputs": [
    {
     "data": {
      "text/plain": [
       "['banana', 'banana']"
      ]
     },
     "execution_count": 59,
     "metadata": {},
     "output_type": "execute_result"
    }
   ],
   "source": [
    "for _ in range(2):\n",
    "    a.Get('banana')\n",
    "a.Check()"
   ]
  },
  {
   "cell_type": "code",
   "execution_count": 60,
   "id": "c58a7d6f",
   "metadata": {},
   "outputs": [
    {
     "data": {
      "text/plain": [
       "[]"
      ]
     },
     "execution_count": 60,
     "metadata": {},
     "output_type": "execute_result"
    }
   ],
   "source": [
    "a.Eat(2)"
   ]
  },
  {
   "cell_type": "code",
   "execution_count": 61,
   "id": "5ad5eb99",
   "metadata": {},
   "outputs": [
    {
     "name": "stdout",
     "output_type": "stream",
     "text": [
      "우가우가\n"
     ]
    }
   ],
   "source": [
    "a.Shout()"
   ]
  },
  {
   "cell_type": "code",
   "execution_count": null,
   "id": "16790108",
   "metadata": {},
   "outputs": [],
   "source": []
  }
 ],
 "metadata": {
  "kernelspec": {
   "display_name": "Python 3 (ipykernel)",
   "language": "python",
   "name": "python3"
  },
  "language_info": {
   "codemirror_mode": {
    "name": "ipython",
    "version": 3
   },
   "file_extension": ".py",
   "mimetype": "text/x-python",
   "name": "python",
   "nbconvert_exporter": "python",
   "pygments_lexer": "ipython3",
   "version": "3.8.8"
  }
 },
 "nbformat": 4,
 "nbformat_minor": 5
}
